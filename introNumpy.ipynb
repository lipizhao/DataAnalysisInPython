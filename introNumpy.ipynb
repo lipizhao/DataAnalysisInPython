{
 "cells": [
  {
   "cell_type": "markdown",
   "id": "4c687c06",
   "metadata": {},
   "source": [
    "The fundamental package for scientific computing with Python\n",
    "   \n",
    "   --- https://numpy.org/   NumPy 1.21.0, (last updated Jun 22, 2021.)"
   ]
  },
  {
   "cell_type": "markdown",
   "id": "ed55c9c0",
   "metadata": {},
   "source": [
    "## ndarray\n"
   ]
  },
  {
   "cell_type": "code",
   "execution_count": 6,
   "id": "19e01057",
   "metadata": {},
   "outputs": [],
   "source": [
    "import numpy as np\n",
    "# help(np.ndarray)\n",
    "from numpy.random import default_rng\n",
    "import matplotlib.pyplot as plt"
   ]
  },
  {
   "cell_type": "markdown",
   "id": "84bf092b",
   "metadata": {},
   "source": [
    "### 1. Create an array and get to know its property"
   ]
  },
  {
   "cell_type": "code",
   "execution_count": 7,
   "id": "b8cd89ce",
   "metadata": {},
   "outputs": [
    {
     "data": {
      "text/plain": [
       "array([1, 2])"
      ]
     },
     "execution_count": 7,
     "metadata": {},
     "output_type": "execute_result"
    }
   ],
   "source": [
    "data0 = np.array([1, 2])\n",
    "data0"
   ]
  },
  {
   "cell_type": "code",
   "execution_count": 8,
   "id": "2486d8c1",
   "metadata": {},
   "outputs": [
    {
     "data": {
      "text/plain": [
       "numpy.ndarray"
      ]
     },
     "execution_count": 8,
     "metadata": {},
     "output_type": "execute_result"
    }
   ],
   "source": [
    "type(data0)"
   ]
  },
  {
   "cell_type": "code",
   "execution_count": 9,
   "id": "52c7da2b",
   "metadata": {},
   "outputs": [
    {
     "data": {
      "text/plain": [
       "array([[1, 2],\n",
       "       [3, 4],\n",
       "       [5, 6]])"
      ]
     },
     "execution_count": 9,
     "metadata": {},
     "output_type": "execute_result"
    }
   ],
   "source": [
    "data1 = np.array([[1, 2], [3, 4], [5, 6]])\n",
    "data1"
   ]
  },
  {
   "cell_type": "code",
   "execution_count": 10,
   "id": "f83b3fc0",
   "metadata": {},
   "outputs": [
    {
     "data": {
      "text/plain": [
       "(3, 2)"
      ]
     },
     "execution_count": 10,
     "metadata": {},
     "output_type": "execute_result"
    }
   ],
   "source": [
    "data1.shape"
   ]
  },
  {
   "cell_type": "code",
   "execution_count": 11,
   "id": "f6008d04",
   "metadata": {},
   "outputs": [
    {
     "data": {
      "text/plain": [
       "dtype('int32')"
      ]
     },
     "execution_count": 11,
     "metadata": {},
     "output_type": "execute_result"
    }
   ],
   "source": [
    "data1.dtype"
   ]
  },
  {
   "cell_type": "code",
   "execution_count": 12,
   "id": "57f29c84",
   "metadata": {},
   "outputs": [
    {
     "data": {
      "text/plain": [
       "dtype('float32')"
      ]
     },
     "execution_count": 12,
     "metadata": {},
     "output_type": "execute_result"
    }
   ],
   "source": [
    "data2 = np.array([[1, 2], [3, 4], [5, 6]],dtype=np.float32)\n",
    "data2.dtype"
   ]
  },
  {
   "cell_type": "code",
   "execution_count": 13,
   "id": "db48a623",
   "metadata": {},
   "outputs": [
    {
     "data": {
      "text/plain": [
       "array([0, 1, 2, 3, 4, 5, 6, 7, 8, 9])"
      ]
     },
     "execution_count": 13,
     "metadata": {},
     "output_type": "execute_result"
    }
   ],
   "source": [
    "data3 = np.arange(0,10,1)\n",
    "data3"
   ]
  },
  {
   "cell_type": "code",
   "execution_count": 12,
   "id": "243e4f43",
   "metadata": {},
   "outputs": [
    {
     "data": {
      "text/plain": [
       "array([ 0.,  1.,  2.,  3.,  4.,  5.,  6.,  7.,  8.,  9., 10.])"
      ]
     },
     "execution_count": 12,
     "metadata": {},
     "output_type": "execute_result"
    }
   ],
   "source": [
    "data4 = np.linspace(0,10,11)\n",
    "data4"
   ]
  },
  {
   "cell_type": "code",
   "execution_count": 13,
   "id": "b54c74a0",
   "metadata": {},
   "outputs": [
    {
     "data": {
      "text/plain": [
       "array([[0.76227962, 0.93199979, 0.40474577],\n",
       "       [0.89750063, 0.38860176, 0.9008666 ]])"
      ]
     },
     "execution_count": 13,
     "metadata": {},
     "output_type": "execute_result"
    }
   ],
   "source": [
    "data5 = np.random.rand(2,3)  #that are uniformly distributed between 0 and 1\n",
    "data5"
   ]
  },
  {
   "cell_type": "code",
   "execution_count": 36,
   "id": "4eed82b2",
   "metadata": {},
   "outputs": [
    {
     "data": {
      "text/plain": [
       "array([[0., 0., 0.],\n",
       "       [0., 0., 0.]])"
      ]
     },
     "execution_count": 36,
     "metadata": {},
     "output_type": "execute_result"
    }
   ],
   "source": [
    "data6 = np.zeros((2, 3))\n",
    "data6"
   ]
  },
  {
   "cell_type": "code",
   "execution_count": 7,
   "id": "9a915d1f",
   "metadata": {},
   "outputs": [
    {
     "data": {
      "text/plain": [
       "array([1., 1., 1., 1.])"
      ]
     },
     "execution_count": 7,
     "metadata": {},
     "output_type": "execute_result"
    }
   ],
   "source": [
    "data7 = np.ones(4)\n",
    "data7"
   ]
  },
  {
   "cell_type": "code",
   "execution_count": 41,
   "id": "4a34858d",
   "metadata": {},
   "outputs": [
    {
     "data": {
      "text/plain": [
       "array([[1., 0., 0., 0.],\n",
       "       [0., 1., 0., 0.],\n",
       "       [0., 0., 1., 0.],\n",
       "       [0., 0., 0., 1.]])"
      ]
     },
     "execution_count": 41,
     "metadata": {},
     "output_type": "execute_result"
    }
   ],
   "source": [
    "data8 = np.identity(4)\n",
    "data8"
   ]
  },
  {
   "cell_type": "markdown",
   "id": "ba0fbe23",
   "metadata": {},
   "source": [
    "### 2. Indexing and Slicing"
   ]
  },
  {
   "cell_type": "markdown",
   "id": "f218a6a9",
   "metadata": {},
   "source": [
    "#### One dimensional Arrays"
   ]
  },
  {
   "cell_type": "code",
   "execution_count": 42,
   "id": "a7fca937",
   "metadata": {},
   "outputs": [
    {
     "data": {
      "text/plain": [
       "array([0, 1, 2, 3, 4])"
      ]
     },
     "execution_count": 42,
     "metadata": {},
     "output_type": "execute_result"
    }
   ],
   "source": [
    "data3[:5]"
   ]
  },
  {
   "cell_type": "code",
   "execution_count": 20,
   "id": "f99c7aa5",
   "metadata": {},
   "outputs": [
    {
     "data": {
      "text/plain": [
       "array([5, 6, 7, 8, 9])"
      ]
     },
     "execution_count": 20,
     "metadata": {},
     "output_type": "execute_result"
    }
   ],
   "source": [
    "data3[-5:]"
   ]
  },
  {
   "cell_type": "markdown",
   "id": "917d82c5",
   "metadata": {},
   "source": [
    "#### Multidimensional Arrays"
   ]
  },
  {
   "cell_type": "code",
   "execution_count": 5,
   "id": "df9b14d3",
   "metadata": {},
   "outputs": [
    {
     "data": {
      "text/plain": [
       "2"
      ]
     },
     "execution_count": 5,
     "metadata": {},
     "output_type": "execute_result"
    }
   ],
   "source": [
    "# Apply indexing and slicing on each dimension\n",
    "data1[0, 1] # the one item on first row, second column"
   ]
  },
  {
   "cell_type": "code",
   "execution_count": 10,
   "id": "88a3783d",
   "metadata": {},
   "outputs": [
    {
     "data": {
      "text/plain": [
       "array([2, 4, 6])"
      ]
     },
     "execution_count": 10,
     "metadata": {},
     "output_type": "execute_result"
    }
   ],
   "source": [
    "data1[:, 1] # the second column"
   ]
  },
  {
   "cell_type": "markdown",
   "id": "c871cb24",
   "metadata": {},
   "source": [
    "### 3. Matrix and Vector operations\n"
   ]
  },
  {
   "cell_type": "markdown",
   "id": "5c217716",
   "metadata": {},
   "source": [
    "#### Vector multiply vector"
   ]
  },
  {
   "cell_type": "code",
   "execution_count": 14,
   "id": "c64a1324",
   "metadata": {},
   "outputs": [
    {
     "data": {
      "text/plain": [
       "(array([0, 1, 2]), array([2, 0, 3]))"
      ]
     },
     "execution_count": 14,
     "metadata": {},
     "output_type": "execute_result"
    }
   ],
   "source": [
    "# The np.dot function can be used for vector-vector multiplication\n",
    "x = np.arange(3)\n",
    "y = np.array([2,0,3])\n",
    "x,y"
   ]
  },
  {
   "cell_type": "code",
   "execution_count": 5,
   "id": "1eb2fe96",
   "metadata": {},
   "outputs": [
    {
     "data": {
      "text/plain": [
       "6"
      ]
     },
     "execution_count": 5,
     "metadata": {},
     "output_type": "execute_result"
    }
   ],
   "source": [
    "x.dot(y) # or np.dot(x,y)"
   ]
  },
  {
   "cell_type": "markdown",
   "id": "1a7c0334",
   "metadata": {},
   "source": [
    "#### Matrix multipy vector"
   ]
  },
  {
   "cell_type": "code",
   "execution_count": 15,
   "id": "efa773da",
   "metadata": {},
   "outputs": [
    {
     "data": {
      "text/plain": [
       "array([[1, 2, 3],\n",
       "       [4, 5, 6]])"
      ]
     },
     "execution_count": 15,
     "metadata": {},
     "output_type": "execute_result"
    }
   ],
   "source": [
    "A = np.arange(1, 7).reshape(2, 3)\n",
    "A"
   ]
  },
  {
   "cell_type": "code",
   "execution_count": 6,
   "id": "7867cd63",
   "metadata": {},
   "outputs": [
    {
     "data": {
      "text/plain": [
       "array([ 8, 17])"
      ]
     },
     "execution_count": 6,
     "metadata": {},
     "output_type": "execute_result"
    }
   ],
   "source": [
    "C = np.dot(A,x)\n",
    "C"
   ]
  },
  {
   "cell_type": "markdown",
   "id": "fb3db300",
   "metadata": {},
   "source": [
    "#### Matrix multiply matrix"
   ]
  },
  {
   "cell_type": "code",
   "execution_count": 7,
   "id": "735c7d50",
   "metadata": {},
   "outputs": [
    {
     "data": {
      "text/plain": [
       "array([[1, 2],\n",
       "       [3, 4],\n",
       "       [5, 6]])"
      ]
     },
     "execution_count": 7,
     "metadata": {},
     "output_type": "execute_result"
    }
   ],
   "source": [
    "B = np.arange(1, 7).reshape(3, 2)\n",
    "B"
   ]
  },
  {
   "cell_type": "code",
   "execution_count": 9,
   "id": "7078e847",
   "metadata": {},
   "outputs": [
    {
     "data": {
      "text/plain": [
       "array([[22, 28],\n",
       "       [49, 64]])"
      ]
     },
     "execution_count": 9,
     "metadata": {},
     "output_type": "execute_result"
    }
   ],
   "source": [
    "# the NumPy function np.dot is used for matrix product\n",
    "D = np.dot(A, B)  #A*B won't work\n",
    "D"
   ]
  },
  {
   "cell_type": "code",
   "execution_count": 10,
   "id": "8d2fdf4c",
   "metadata": {},
   "outputs": [
    {
     "data": {
      "text/plain": [
       "array([[22, 28],\n",
       "       [49, 64]])"
      ]
     },
     "execution_count": 10,
     "metadata": {},
     "output_type": "execute_result"
    }
   ],
   "source": [
    "A@B "
   ]
  },
  {
   "cell_type": "markdown",
   "id": "d4c3dbcf",
   "metadata": {},
   "source": [
    "### 4. Broadcasting "
   ]
  },
  {
   "cell_type": "code",
   "execution_count": 61,
   "id": "de8985dc",
   "metadata": {},
   "outputs": [
    {
     "data": {
      "text/plain": [
       "array([3, 4, 5])"
      ]
     },
     "execution_count": 61,
     "metadata": {},
     "output_type": "execute_result"
    }
   ],
   "source": [
    "x+3"
   ]
  },
  {
   "cell_type": "code",
   "execution_count": 12,
   "id": "3c8a79ce",
   "metadata": {},
   "outputs": [
    {
     "data": {
      "text/plain": [
       "array([[1, 3, 5],\n",
       "       [4, 6, 8]])"
      ]
     },
     "execution_count": 12,
     "metadata": {},
     "output_type": "execute_result"
    }
   ],
   "source": [
    "A+x"
   ]
  },
  {
   "cell_type": "markdown",
   "id": "19bff074",
   "metadata": {},
   "source": [
    "## Mini Case: stock price simulation"
   ]
  },
  {
   "cell_type": "markdown",
   "id": "50910529",
   "metadata": {},
   "source": [
    "$S(t) = S(0) * e^{(r-0.5*sigma^2)*t+sigma*N(t)}$"
   ]
  },
  {
   "cell_type": "code",
   "execution_count": 4,
   "id": "17580b9d",
   "metadata": {},
   "outputs": [],
   "source": [
    "S_0 = 100    #Current stock price\n",
    "r = 0.02     #Risk-free interest rate\n",
    "sigma = 0.2  #The volatility of the stock\n",
    "t = 1        #step size\n",
    "\n",
    "M = 10       # number of paths\n",
    "H = 12       # number of horizons"
   ]
  },
  {
   "cell_type": "code",
   "execution_count": 5,
   "id": "46b13443",
   "metadata": {},
   "outputs": [
    {
     "data": {
      "text/plain": [
       "array([[0., 0., 0., 0., 0., 0., 0., 0., 0., 0., 0., 0., 0.],\n",
       "       [0., 0., 0., 0., 0., 0., 0., 0., 0., 0., 0., 0., 0.],\n",
       "       [0., 0., 0., 0., 0., 0., 0., 0., 0., 0., 0., 0., 0.],\n",
       "       [0., 0., 0., 0., 0., 0., 0., 0., 0., 0., 0., 0., 0.],\n",
       "       [0., 0., 0., 0., 0., 0., 0., 0., 0., 0., 0., 0., 0.],\n",
       "       [0., 0., 0., 0., 0., 0., 0., 0., 0., 0., 0., 0., 0.],\n",
       "       [0., 0., 0., 0., 0., 0., 0., 0., 0., 0., 0., 0., 0.],\n",
       "       [0., 0., 0., 0., 0., 0., 0., 0., 0., 0., 0., 0., 0.],\n",
       "       [0., 0., 0., 0., 0., 0., 0., 0., 0., 0., 0., 0., 0.],\n",
       "       [0., 0., 0., 0., 0., 0., 0., 0., 0., 0., 0., 0., 0.]])"
      ]
     },
     "execution_count": 5,
     "metadata": {},
     "output_type": "execute_result"
    }
   ],
   "source": [
    "S = np.zeros((M, H+1))\n",
    "S"
   ]
  },
  {
   "cell_type": "code",
   "execution_count": 30,
   "id": "e3d0b467",
   "metadata": {},
   "outputs": [
    {
     "data": {
      "image/png": "[encoded data removed]",
      "text/plain": [
       "<Figure size 432x288 with 1 Axes>"
      ]
     },
     "metadata": {
      "needs_background": "light"
     },
     "output_type": "display_data"
    }
   ],
   "source": [
    "rng = default_rng()\n",
    "for m in range(M):\n",
    "    N_t = rng.standard_normal(H)\n",
    "    S[n][0] = S_0\n",
    "    for h in range(1,H+1):\n",
    "        S[n][h] = S[n][h-1]*np.exp((r-0.5*sigma*sigma)*t+sigma*N_t[h-1])\n",
    "    plt.plot(S[n])     "
   ]
  },
  {
   "cell_type": "markdown",
   "id": "42722c27",
   "metadata": {},
   "source": [
    "## Mini Case: SVD PCA \n",
    "* [**SVD_PCA**](SVD_PCA_DOG.ipynb)"
   ]
  }
 ],
 "metadata": {
  "kernelspec": {
   "display_name": "Python 3",
   "language": "python",
   "name": "python3"
  },
  "language_info": {
   "codemirror_mode": {
    "name": "ipython",
    "version": 3
   },
   "file_extension": ".py",
   "mimetype": "text/x-python",
   "name": "python",
   "nbconvert_exporter": "python",
   "pygments_lexer": "ipython3",
   "version": "3.8.8"
  }
 },
 "nbformat": 4,
 "nbformat_minor": 5
}
