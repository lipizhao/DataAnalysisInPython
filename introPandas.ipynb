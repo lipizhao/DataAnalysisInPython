{
 "cells": [
  {
   "cell_type": "markdown",
   "id": "ef79f1b1",
   "metadata": {},
   "source": [
    "<blockquote>\n",
    "Built on Numy, this library provides convenient data structures for representing series and \n",
    "tables of data and makes it easy to transform, split, merge, and convert data. [Version: 1.2.4]\n",
    "</blockquote>\n",
    "<a href=\"https://pandas.pydata.org/\"> Pandas</a> "
   ]
  },
  {
   "cell_type": "code",
   "execution_count": 77,
   "id": "c4b5d293",
   "metadata": {},
   "outputs": [],
   "source": [
    "import pandas as pd\n",
    "import numpy as np\n",
    "import matplotlib.pyplot as plt\n",
    "#import matplotlib as mpl\n",
    "#mpl.style.use('ggplot')"
   ]
  },
  {
   "cell_type": "markdown",
   "id": "2bb63b88",
   "metadata": {},
   "source": [
    "### Series"
   ]
  },
  {
   "cell_type": "code",
   "execution_count": 2,
   "id": "ee5471ce",
   "metadata": {},
   "outputs": [
    {
     "data": {
      "text/plain": [
       "0    1961.63\n",
       "1    1985.05\n",
       "2    1982.30\n",
       "3    1994.65\n",
       "4    2018.05\n",
       "dtype: float64"
      ]
     },
     "execution_count": 2,
     "metadata": {},
     "output_type": "execute_result"
    }
   ],
   "source": [
    "# One-dimensional ndarray with axis labels\n",
    "s = pd.Series([1961.63, 1985.05, 1982.3, 1994.65, 2018.05])\n",
    "s"
   ]
  },
  {
   "cell_type": "code",
   "execution_count": 3,
   "id": "350db9bf",
   "metadata": {},
   "outputs": [
    {
     "data": {
      "text/plain": [
       "RangeIndex(start=0, stop=5, step=1)"
      ]
     },
     "execution_count": 3,
     "metadata": {},
     "output_type": "execute_result"
    }
   ],
   "source": [
    "s.index"
   ]
  },
  {
   "cell_type": "code",
   "execution_count": 4,
   "id": "ff35b387",
   "metadata": {},
   "outputs": [
    {
     "data": {
      "text/plain": [
       "array([1961.63, 1985.05, 1982.3 , 1994.65, 2018.05])"
      ]
     },
     "execution_count": 4,
     "metadata": {},
     "output_type": "execute_result"
    }
   ],
   "source": [
    "s.values  #it's an ndarray!"
   ]
  },
  {
   "cell_type": "code",
   "execution_count": 5,
   "id": "e9a67cdf",
   "metadata": {},
   "outputs": [
    {
     "data": {
      "text/plain": [
       "10/27/2014    1961.63\n",
       "10/28/2014    1985.05\n",
       "10/29/2014    1982.30\n",
       "10/30/2014    1994.65\n",
       "10/31/2014    2018.05\n",
       "Name: Close, dtype: float64"
      ]
     },
     "execution_count": 5,
     "metadata": {},
     "output_type": "execute_result"
    }
   ],
   "source": [
    "s.index = ['10/27/2014', '10/28/2014', '10/29/2014', '10/30/2014', '10/31/2014']\n",
    "s.name = \"Close\"\n",
    "s"
   ]
  },
  {
   "cell_type": "code",
   "execution_count": 6,
   "id": "9e358e4e",
   "metadata": {},
   "outputs": [
    {
     "data": {
      "text/plain": [
       "1994.65"
      ]
     },
     "execution_count": 6,
     "metadata": {},
     "output_type": "execute_result"
    }
   ],
   "source": [
    "s[\"10/30/2014\"]  "
   ]
  },
  {
   "cell_type": "markdown",
   "id": "0d324b19",
   "metadata": {},
   "source": [
    "#### Describe it"
   ]
  },
  {
   "cell_type": "code",
   "execution_count": 30,
   "id": "5232663e",
   "metadata": {},
   "outputs": [
    {
     "data": {
      "text/plain": [
       "5"
      ]
     },
     "execution_count": 30,
     "metadata": {},
     "output_type": "execute_result"
    }
   ],
   "source": [
    "s.count()"
   ]
  },
  {
   "cell_type": "code",
   "execution_count": 31,
   "id": "ed5ca943",
   "metadata": {},
   "outputs": [
    {
     "data": {
      "text/plain": [
       "(1988.336, 1985.05, 20.513592566881073)"
      ]
     },
     "execution_count": 31,
     "metadata": {},
     "output_type": "execute_result"
    }
   ],
   "source": [
    "s.mean(),s.median(),s.std()"
   ]
  },
  {
   "cell_type": "code",
   "execution_count": 32,
   "id": "18be8b46",
   "metadata": {},
   "outputs": [
    {
     "data": {
      "text/plain": [
       "(1961.63, 2018.05)"
      ]
     },
     "execution_count": 32,
     "metadata": {},
     "output_type": "execute_result"
    }
   ],
   "source": [
    "s.min(), s.max()"
   ]
  },
  {
   "cell_type": "code",
   "execution_count": 9,
   "id": "293d3a24",
   "metadata": {
    "scrolled": true
   },
   "outputs": [
    {
     "data": {
      "text/plain": [
       "count       5.000000\n",
       "mean     1988.336000\n",
       "std        20.513593\n",
       "min      1961.630000\n",
       "25%      1982.300000\n",
       "50%      1985.050000\n",
       "75%      1994.650000\n",
       "max      2018.050000\n",
       "Name: Close, dtype: float64"
      ]
     },
     "execution_count": 9,
     "metadata": {},
     "output_type": "execute_result"
    }
   ],
   "source": [
    "s.describe()"
   ]
  },
  {
   "cell_type": "markdown",
   "id": "d5ed82b9",
   "metadata": {},
   "source": [
    "#### Time series calculation"
   ]
  },
  {
   "cell_type": "code",
   "execution_count": 7,
   "id": "a11fa05a",
   "metadata": {},
   "outputs": [
    {
     "data": {
      "text/plain": [
       "10/27/2014         NaN\n",
       "10/28/2014    0.011939\n",
       "10/29/2014   -0.001385\n",
       "10/30/2014    0.006230\n",
       "10/31/2014    0.011731\n",
       "Name: Close, dtype: float64"
      ]
     },
     "execution_count": 7,
     "metadata": {},
     "output_type": "execute_result"
    }
   ],
   "source": [
    "s_change = s.pct_change()\n",
    "s_change"
   ]
  },
  {
   "cell_type": "code",
   "execution_count": 8,
   "id": "6b0b14a6",
   "metadata": {},
   "outputs": [
    {
     "data": {
      "text/plain": [
       "10/28/2014    0.011939\n",
       "10/29/2014   -0.001385\n",
       "10/30/2014    0.006230\n",
       "10/31/2014    0.011731\n",
       "Name: Close, dtype: float64"
      ]
     },
     "execution_count": 8,
     "metadata": {},
     "output_type": "execute_result"
    }
   ],
   "source": [
    "s_change.dropna()"
   ]
  },
  {
   "cell_type": "markdown",
   "id": "62a4e474",
   "metadata": {},
   "source": [
    "#### Plot it"
   ]
  },
  {
   "cell_type": "code",
   "execution_count": 37,
   "id": "289334ca",
   "metadata": {},
   "outputs": [
    {
     "data": {
      "text/plain": [
       "<AxesSubplot:title={'center':'pie'}, ylabel='Close'>"
      ]
     },
     "execution_count": 37,
     "metadata": {},
     "output_type": "execute_result"
    },
    {
     "data": {
      "image/png": "[encoded data removed]",
      "text/plain": [
       "<Figure size 864x216 with 4 Axes>"
      ]
     },
     "metadata": {},
     "output_type": "display_data"
    }
   ],
   "source": [
    "fig, axes = plt.subplots(1, 4, figsize=(12, 3))\n",
    "s.plot(ax=axes[0], kind='line', title='line')\n",
    "s.plot(ax=axes[1], kind='bar', title='bar')\n",
    "s.plot(ax=axes[2], kind='box', title='box')\n",
    "s.plot(ax=axes[3], kind='pie', title='pie')"
   ]
  },
  {
   "cell_type": "code",
   "execution_count": 10,
   "id": "a81929db",
   "metadata": {},
   "outputs": [
    {
     "data": {
      "text/html": [
       "<div>\n",
       "<style scoped>\n",
       "    .dataframe tbody tr th:only-of-type {\n",
       "        vertical-align: middle;\n",
       "    }\n",
       "\n",
       "    .dataframe tbody tr th {\n",
       "        vertical-align: top;\n",
       "    }\n",
       "\n",
       "    .dataframe thead th {\n",
       "        text-align: right;\n",
       "    }\n",
       "</style>\n",
       "<table border=\"1\" class=\"dataframe\">\n",
       "  <thead>\n",
       "    <tr style=\"text-align: right;\">\n",
       "      <th></th>\n",
       "      <th>Close</th>\n",
       "    </tr>\n",
       "  </thead>\n",
       "  <tbody>\n",
       "    <tr>\n",
       "      <th>10/27/2014</th>\n",
       "      <td>1961.63</td>\n",
       "    </tr>\n",
       "    <tr>\n",
       "      <th>10/28/2014</th>\n",
       "      <td>1985.05</td>\n",
       "    </tr>\n",
       "    <tr>\n",
       "      <th>10/29/2014</th>\n",
       "      <td>1982.30</td>\n",
       "    </tr>\n",
       "    <tr>\n",
       "      <th>10/30/2014</th>\n",
       "      <td>1994.65</td>\n",
       "    </tr>\n",
       "    <tr>\n",
       "      <th>10/31/2014</th>\n",
       "      <td>2018.05</td>\n",
       "    </tr>\n",
       "  </tbody>\n",
       "</table>\n",
       "</div>"
      ],
      "text/plain": [
       "              Close\n",
       "10/27/2014  1961.63\n",
       "10/28/2014  1985.05\n",
       "10/29/2014  1982.30\n",
       "10/30/2014  1994.65\n",
       "10/31/2014  2018.05"
      ]
     },
     "execution_count": 10,
     "metadata": {},
     "output_type": "execute_result"
    }
   ],
   "source": [
    "#Convert a Series to a DataFrame\n",
    "d = s.to_frame()\n",
    "d"
   ]
  },
  {
   "cell_type": "markdown",
   "id": "932e0840",
   "metadata": {},
   "source": [
    "### DataFrame"
   ]
  },
  {
   "cell_type": "code",
   "execution_count": 26,
   "id": "142a4f04",
   "metadata": {
    "scrolled": true
   },
   "outputs": [
    {
     "data": {
      "text/html": [
       "<div>\n",
       "<style scoped>\n",
       "    .dataframe tbody tr th:only-of-type {\n",
       "        vertical-align: middle;\n",
       "    }\n",
       "\n",
       "    .dataframe tbody tr th {\n",
       "        vertical-align: top;\n",
       "    }\n",
       "\n",
       "    .dataframe thead th {\n",
       "        text-align: right;\n",
       "    }\n",
       "</style>\n",
       "<table border=\"1\" class=\"dataframe\">\n",
       "  <thead>\n",
       "    <tr style=\"text-align: right;\">\n",
       "      <th></th>\n",
       "      <th>Close</th>\n",
       "      <th>Volume</th>\n",
       "    </tr>\n",
       "  </thead>\n",
       "  <tbody>\n",
       "    <tr>\n",
       "      <th>10/27/2014</th>\n",
       "      <td>1961.63</td>\n",
       "      <td>3538860000</td>\n",
       "    </tr>\n",
       "    <tr>\n",
       "      <th>10/28/2014</th>\n",
       "      <td>1985.05</td>\n",
       "      <td>3653260000</td>\n",
       "    </tr>\n",
       "    <tr>\n",
       "      <th>10/29/2014</th>\n",
       "      <td>1982.30</td>\n",
       "      <td>3740350000</td>\n",
       "    </tr>\n",
       "    <tr>\n",
       "      <th>10/30/2014</th>\n",
       "      <td>1994.65</td>\n",
       "      <td>3586150000</td>\n",
       "    </tr>\n",
       "    <tr>\n",
       "      <th>10/31/2014</th>\n",
       "      <td>2018.05</td>\n",
       "      <td>4292290000</td>\n",
       "    </tr>\n",
       "  </tbody>\n",
       "</table>\n",
       "</div>"
      ],
      "text/plain": [
       "              Close      Volume\n",
       "10/27/2014  1961.63  3538860000\n",
       "10/28/2014  1985.05  3653260000\n",
       "10/29/2014  1982.30  3740350000\n",
       "10/30/2014  1994.65  3586150000\n",
       "10/31/2014  2018.05  4292290000"
      ]
     },
     "execution_count": 26,
     "metadata": {},
     "output_type": "execute_result"
    }
   ],
   "source": [
    "df1 = pd.DataFrame([[1961.63, 3538860000],\n",
    "                    [1985.05, 3653260000],\n",
    "                    [1982.3, 3740350000],\n",
    "                    [1994.65, 3586150000],\n",
    "                    [2018.05,4292290000]])\n",
    "df1.columns = [\"Close\", \"Volume\"]\n",
    "df1.index = ['10/27/2014', '10/28/2014', '10/29/2014', '10/30/2014', '10/31/2014']\n",
    "df1"
   ]
  },
  {
   "cell_type": "code",
   "execution_count": 25,
   "id": "72260390",
   "metadata": {},
   "outputs": [
    {
     "data": {
      "text/html": [
       "<div>\n",
       "<style scoped>\n",
       "    .dataframe tbody tr th:only-of-type {\n",
       "        vertical-align: middle;\n",
       "    }\n",
       "\n",
       "    .dataframe tbody tr th {\n",
       "        vertical-align: top;\n",
       "    }\n",
       "\n",
       "    .dataframe thead th {\n",
       "        text-align: right;\n",
       "    }\n",
       "</style>\n",
       "<table border=\"1\" class=\"dataframe\">\n",
       "  <thead>\n",
       "    <tr style=\"text-align: right;\">\n",
       "      <th></th>\n",
       "      <th>Close</th>\n",
       "      <th>Volume</th>\n",
       "    </tr>\n",
       "  </thead>\n",
       "  <tbody>\n",
       "    <tr>\n",
       "      <th>10/27/2014</th>\n",
       "      <td>2961.63</td>\n",
       "      <td>3538860000</td>\n",
       "    </tr>\n",
       "    <tr>\n",
       "      <th>10/28/2014</th>\n",
       "      <td>2985.05</td>\n",
       "      <td>3653260000</td>\n",
       "    </tr>\n",
       "    <tr>\n",
       "      <th>10/29/2014</th>\n",
       "      <td>2982.30</td>\n",
       "      <td>3740350000</td>\n",
       "    </tr>\n",
       "    <tr>\n",
       "      <th>10/30/2014</th>\n",
       "      <td>2994.65</td>\n",
       "      <td>3586150000</td>\n",
       "    </tr>\n",
       "    <tr>\n",
       "      <th>10/31/2014</th>\n",
       "      <td>3018.05</td>\n",
       "      <td>4292290000</td>\n",
       "    </tr>\n",
       "  </tbody>\n",
       "</table>\n",
       "</div>"
      ],
      "text/plain": [
       "              Close      Volume\n",
       "10/27/2014  2961.63  3538860000\n",
       "10/28/2014  2985.05  3653260000\n",
       "10/29/2014  2982.30  3740350000\n",
       "10/30/2014  2994.65  3586150000\n",
       "10/31/2014  3018.05  4292290000"
      ]
     },
     "execution_count": 25,
     "metadata": {},
     "output_type": "execute_result"
    }
   ],
   "source": [
    "df2 = pd.DataFrame({'Close':[2961.63, 2985.05, 2982.3, 2994.65, 3018.05],\n",
    "                   'Volume':[3538860000, 3653260000, 3740350000, 3586150000, 4292290000]},\n",
    "                      index=['10/27/2014', '10/28/2014', '10/29/2014', '10/30/2014', '10/31/2014'])\n",
    "df2"
   ]
  },
  {
   "cell_type": "code",
   "execution_count": 13,
   "id": "c636e9fa",
   "metadata": {},
   "outputs": [
    {
     "data": {
      "text/plain": [
       "10/27/2014    1961.63\n",
       "10/28/2014    1985.05\n",
       "10/29/2014    1982.30\n",
       "10/30/2014    1994.65\n",
       "10/31/2014    2018.05\n",
       "Name: Close, dtype: float64"
      ]
     },
     "execution_count": 13,
     "metadata": {},
     "output_type": "execute_result"
    }
   ],
   "source": [
    "df2[\"Close\"]"
   ]
  },
  {
   "cell_type": "code",
   "execution_count": 35,
   "id": "b9423621",
   "metadata": {},
   "outputs": [
    {
     "data": {
      "text/html": [
       "<div>\n",
       "<style scoped>\n",
       "    .dataframe tbody tr th:only-of-type {\n",
       "        vertical-align: middle;\n",
       "    }\n",
       "\n",
       "    .dataframe tbody tr th {\n",
       "        vertical-align: top;\n",
       "    }\n",
       "\n",
       "    .dataframe thead th {\n",
       "        text-align: right;\n",
       "    }\n",
       "</style>\n",
       "<table border=\"1\" class=\"dataframe\">\n",
       "  <thead>\n",
       "    <tr style=\"text-align: right;\">\n",
       "      <th></th>\n",
       "      <th>Close</th>\n",
       "      <th>Volume</th>\n",
       "    </tr>\n",
       "  </thead>\n",
       "  <tbody>\n",
       "    <tr>\n",
       "      <th>10/27/2014</th>\n",
       "      <td>2961.63</td>\n",
       "      <td>3538860000</td>\n",
       "    </tr>\n",
       "    <tr>\n",
       "      <th>10/28/2014</th>\n",
       "      <td>2985.05</td>\n",
       "      <td>3653260000</td>\n",
       "    </tr>\n",
       "  </tbody>\n",
       "</table>\n",
       "</div>"
      ],
      "text/plain": [
       "              Close      Volume\n",
       "10/27/2014  2961.63  3538860000\n",
       "10/28/2014  2985.05  3653260000"
      ]
     },
     "execution_count": 35,
     "metadata": {},
     "output_type": "execute_result"
    }
   ],
   "source": [
    "df2[:2]"
   ]
  },
  {
   "cell_type": "markdown",
   "id": "1f9e11ea",
   "metadata": {},
   "source": [
    "#### Selection by label"
   ]
  },
  {
   "cell_type": "code",
   "execution_count": 32,
   "id": "0084f94f",
   "metadata": {},
   "outputs": [
    {
     "data": {
      "text/plain": [
       "Close     2.961630e+03\n",
       "Volume    3.538860e+09\n",
       "Name: 10/27/2014, dtype: float64"
      ]
     },
     "execution_count": 32,
     "metadata": {},
     "output_type": "execute_result"
    }
   ],
   "source": [
    "df2.loc['10/27/2014']"
   ]
  },
  {
   "cell_type": "code",
   "execution_count": 36,
   "id": "1e4ce9d4",
   "metadata": {
    "scrolled": false
   },
   "outputs": [
    {
     "data": {
      "text/html": [
       "<div>\n",
       "<style scoped>\n",
       "    .dataframe tbody tr th:only-of-type {\n",
       "        vertical-align: middle;\n",
       "    }\n",
       "\n",
       "    .dataframe tbody tr th {\n",
       "        vertical-align: top;\n",
       "    }\n",
       "\n",
       "    .dataframe thead th {\n",
       "        text-align: right;\n",
       "    }\n",
       "</style>\n",
       "<table border=\"1\" class=\"dataframe\">\n",
       "  <thead>\n",
       "    <tr style=\"text-align: right;\">\n",
       "      <th></th>\n",
       "      <th>Close</th>\n",
       "      <th>Volume</th>\n",
       "    </tr>\n",
       "  </thead>\n",
       "  <tbody>\n",
       "    <tr>\n",
       "      <th>10/27/2014</th>\n",
       "      <td>2961.63</td>\n",
       "      <td>3538860000</td>\n",
       "    </tr>\n",
       "    <tr>\n",
       "      <th>10/29/2014</th>\n",
       "      <td>2982.30</td>\n",
       "      <td>3740350000</td>\n",
       "    </tr>\n",
       "  </tbody>\n",
       "</table>\n",
       "</div>"
      ],
      "text/plain": [
       "              Close      Volume\n",
       "10/27/2014  2961.63  3538860000\n",
       "10/29/2014  2982.30  3740350000"
      ]
     },
     "execution_count": 36,
     "metadata": {},
     "output_type": "execute_result"
    }
   ],
   "source": [
    "df2.loc[[\"10/27/2014\", \"10/29/2014\"]]"
   ]
  },
  {
   "cell_type": "code",
   "execution_count": 37,
   "id": "d949ff6c",
   "metadata": {},
   "outputs": [
    {
     "data": {
      "text/plain": [
       "10/27/2014    3538860000\n",
       "10/29/2014    3740350000\n",
       "Name: Volume, dtype: int64"
      ]
     },
     "execution_count": 37,
     "metadata": {},
     "output_type": "execute_result"
    }
   ],
   "source": [
    "df2.loc[[\"10/27/2014\", \"10/29/2014\"], \"Volume\"]"
   ]
  },
  {
   "cell_type": "markdown",
   "id": "e520d5e8",
   "metadata": {},
   "source": [
    "#### Selection by position"
   ]
  },
  {
   "cell_type": "code",
   "execution_count": 18,
   "id": "12f4b4ec",
   "metadata": {},
   "outputs": [
    {
     "data": {
      "text/plain": [
       "10/27/2014    1961.63\n",
       "10/28/2014    1985.05\n",
       "Name: Close, dtype: float64"
      ]
     },
     "execution_count": 18,
     "metadata": {},
     "output_type": "execute_result"
    }
   ],
   "source": [
    "df2.iloc[:2,0]"
   ]
  },
  {
   "cell_type": "code",
   "execution_count": 38,
   "id": "32816cd0",
   "metadata": {},
   "outputs": [
    {
     "data": {
      "text/html": [
       "<div>\n",
       "<style scoped>\n",
       "    .dataframe tbody tr th:only-of-type {\n",
       "        vertical-align: middle;\n",
       "    }\n",
       "\n",
       "    .dataframe tbody tr th {\n",
       "        vertical-align: top;\n",
       "    }\n",
       "\n",
       "    .dataframe thead th {\n",
       "        text-align: right;\n",
       "    }\n",
       "</style>\n",
       "<table border=\"1\" class=\"dataframe\">\n",
       "  <thead>\n",
       "    <tr style=\"text-align: right;\">\n",
       "      <th></th>\n",
       "      <th>Close</th>\n",
       "      <th>Volume</th>\n",
       "    </tr>\n",
       "  </thead>\n",
       "  <tbody>\n",
       "    <tr>\n",
       "      <th>10/27/2014</th>\n",
       "      <td>2961.63</td>\n",
       "      <td>3538860000</td>\n",
       "    </tr>\n",
       "    <tr>\n",
       "      <th>10/28/2014</th>\n",
       "      <td>2985.05</td>\n",
       "      <td>3653260000</td>\n",
       "    </tr>\n",
       "  </tbody>\n",
       "</table>\n",
       "</div>"
      ],
      "text/plain": [
       "              Close      Volume\n",
       "10/27/2014  2961.63  3538860000\n",
       "10/28/2014  2985.05  3653260000"
      ]
     },
     "execution_count": 38,
     "metadata": {},
     "output_type": "execute_result"
    }
   ],
   "source": [
    "df2.iloc[:2,:]"
   ]
  },
  {
   "cell_type": "markdown",
   "id": "b5b5bf1f",
   "metadata": {},
   "source": [
    "#### Describe it"
   ]
  },
  {
   "cell_type": "code",
   "execution_count": 19,
   "id": "7f213319",
   "metadata": {
    "scrolled": false
   },
   "outputs": [
    {
     "data": {
      "text/html": [
       "<div>\n",
       "<style scoped>\n",
       "    .dataframe tbody tr th:only-of-type {\n",
       "        vertical-align: middle;\n",
       "    }\n",
       "\n",
       "    .dataframe tbody tr th {\n",
       "        vertical-align: top;\n",
       "    }\n",
       "\n",
       "    .dataframe thead th {\n",
       "        text-align: right;\n",
       "    }\n",
       "</style>\n",
       "<table border=\"1\" class=\"dataframe\">\n",
       "  <thead>\n",
       "    <tr style=\"text-align: right;\">\n",
       "      <th></th>\n",
       "      <th>Close</th>\n",
       "      <th>Volume</th>\n",
       "    </tr>\n",
       "  </thead>\n",
       "  <tbody>\n",
       "    <tr>\n",
       "      <th>count</th>\n",
       "      <td>5.000000</td>\n",
       "      <td>5.000000e+00</td>\n",
       "    </tr>\n",
       "    <tr>\n",
       "      <th>mean</th>\n",
       "      <td>1988.336000</td>\n",
       "      <td>3.762182e+09</td>\n",
       "    </tr>\n",
       "    <tr>\n",
       "      <th>std</th>\n",
       "      <td>20.513593</td>\n",
       "      <td>3.058656e+08</td>\n",
       "    </tr>\n",
       "    <tr>\n",
       "      <th>min</th>\n",
       "      <td>1961.630000</td>\n",
       "      <td>3.538860e+09</td>\n",
       "    </tr>\n",
       "    <tr>\n",
       "      <th>25%</th>\n",
       "      <td>1982.300000</td>\n",
       "      <td>3.586150e+09</td>\n",
       "    </tr>\n",
       "    <tr>\n",
       "      <th>50%</th>\n",
       "      <td>1985.050000</td>\n",
       "      <td>3.653260e+09</td>\n",
       "    </tr>\n",
       "    <tr>\n",
       "      <th>75%</th>\n",
       "      <td>1994.650000</td>\n",
       "      <td>3.740350e+09</td>\n",
       "    </tr>\n",
       "    <tr>\n",
       "      <th>max</th>\n",
       "      <td>2018.050000</td>\n",
       "      <td>4.292290e+09</td>\n",
       "    </tr>\n",
       "  </tbody>\n",
       "</table>\n",
       "</div>"
      ],
      "text/plain": [
       "             Close        Volume\n",
       "count     5.000000  5.000000e+00\n",
       "mean   1988.336000  3.762182e+09\n",
       "std      20.513593  3.058656e+08\n",
       "min    1961.630000  3.538860e+09\n",
       "25%    1982.300000  3.586150e+09\n",
       "50%    1985.050000  3.653260e+09\n",
       "75%    1994.650000  3.740350e+09\n",
       "max    2018.050000  4.292290e+09"
      ]
     },
     "execution_count": 19,
     "metadata": {},
     "output_type": "execute_result"
    }
   ],
   "source": [
    "df2.describe()"
   ]
  },
  {
   "cell_type": "markdown",
   "id": "bbfed195",
   "metadata": {},
   "source": [
    "## Mini Case"
   ]
  },
  {
   "cell_type": "code",
   "execution_count": 41,
   "id": "c31cbb1d",
   "metadata": {},
   "outputs": [],
   "source": [
    "from datetime import date\n",
    "required_Cols = ['COB','TRADE_DATE', 'INSTRUMENT_ID', 'MATURITY_DATE', 'ProdType', 'CompoSwap','MARKET_VALUE', 'CPYID']\n",
    "\n",
    "trade_df1 = pd.read_csv(\"trades_929.csv\",index_col=['COB'],usecols=required_Cols,parse_dates=['TRADE_DATE','MATURITY_DATE'])\n",
    "trade_df1['MATURITY_DATE'] = trade_df1['MATURITY_DATE'].dt.date\n",
    "\n",
    "trade_df2 = pd.read_csv(\"trades_930.csv\",index_col=['COB'],usecols=required_Cols,parse_dates=['TRADE_DATE','MATURITY_DATE'])\n",
    "trade_df2['MATURITY_DATE'] = trade_df2['MATURITY_DATE'].dt.date"
   ]
  },
  {
   "cell_type": "code",
   "execution_count": 42,
   "id": "c00c36c0",
   "metadata": {},
   "outputs": [
    {
     "data": {
      "text/html": [
       "<div>\n",
       "<style scoped>\n",
       "    .dataframe tbody tr th:only-of-type {\n",
       "        vertical-align: middle;\n",
       "    }\n",
       "\n",
       "    .dataframe tbody tr th {\n",
       "        vertical-align: top;\n",
       "    }\n",
       "\n",
       "    .dataframe thead th {\n",
       "        text-align: right;\n",
       "    }\n",
       "</style>\n",
       "<table border=\"1\" class=\"dataframe\">\n",
       "  <thead>\n",
       "    <tr style=\"text-align: right;\">\n",
       "      <th></th>\n",
       "      <th>TRADE_DATE</th>\n",
       "      <th>INSTRUMENT_ID</th>\n",
       "      <th>MATURITY_DATE</th>\n",
       "      <th>ProdType</th>\n",
       "      <th>CompoSwap</th>\n",
       "      <th>MARKET_VALUE</th>\n",
       "      <th>CPYID</th>\n",
       "    </tr>\n",
       "    <tr>\n",
       "      <th>COB</th>\n",
       "      <th></th>\n",
       "      <th></th>\n",
       "      <th></th>\n",
       "      <th></th>\n",
       "      <th></th>\n",
       "      <th></th>\n",
       "      <th></th>\n",
       "    </tr>\n",
       "  </thead>\n",
       "  <tbody>\n",
       "    <tr>\n",
       "      <th>9/29/2021</th>\n",
       "      <td>2019-02-01</td>\n",
       "      <td>43456</td>\n",
       "      <td>2022-03-02</td>\n",
       "      <td>EQF</td>\n",
       "      <td>NO</td>\n",
       "      <td>100</td>\n",
       "      <td>32</td>\n",
       "    </tr>\n",
       "    <tr>\n",
       "      <th>9/29/2021</th>\n",
       "      <td>2019-02-01</td>\n",
       "      <td>43456</td>\n",
       "      <td>2021-09-28</td>\n",
       "      <td>EQF</td>\n",
       "      <td>NO</td>\n",
       "      <td>100</td>\n",
       "      <td>32</td>\n",
       "    </tr>\n",
       "    <tr>\n",
       "      <th>9/29/2021</th>\n",
       "      <td>2019-02-01</td>\n",
       "      <td>43456</td>\n",
       "      <td>2022-03-02</td>\n",
       "      <td>EQF</td>\n",
       "      <td>NO</td>\n",
       "      <td>100</td>\n",
       "      <td>32</td>\n",
       "    </tr>\n",
       "  </tbody>\n",
       "</table>\n",
       "</div>"
      ],
      "text/plain": [
       "          TRADE_DATE  INSTRUMENT_ID MATURITY_DATE ProdType CompoSwap  \\\n",
       "COB                                                                    \n",
       "9/29/2021 2019-02-01          43456    2022-03-02      EQF        NO   \n",
       "9/29/2021 2019-02-01          43456    2021-09-28      EQF        NO   \n",
       "9/29/2021 2019-02-01          43456    2022-03-02      EQF        NO   \n",
       "\n",
       "           MARKET_VALUE  CPYID  \n",
       "COB                             \n",
       "9/29/2021           100     32  \n",
       "9/29/2021           100     32  \n",
       "9/29/2021           100     32  "
      ]
     },
     "execution_count": 42,
     "metadata": {},
     "output_type": "execute_result"
    }
   ],
   "source": [
    "trade_df1.head(3)"
   ]
  },
  {
   "cell_type": "code",
   "execution_count": 43,
   "id": "75fd19a6",
   "metadata": {},
   "outputs": [
    {
     "data": {
      "text/html": [
       "<div>\n",
       "<style scoped>\n",
       "    .dataframe tbody tr th:only-of-type {\n",
       "        vertical-align: middle;\n",
       "    }\n",
       "\n",
       "    .dataframe tbody tr th {\n",
       "        vertical-align: top;\n",
       "    }\n",
       "\n",
       "    .dataframe thead th {\n",
       "        text-align: right;\n",
       "    }\n",
       "</style>\n",
       "<table border=\"1\" class=\"dataframe\">\n",
       "  <thead>\n",
       "    <tr style=\"text-align: right;\">\n",
       "      <th></th>\n",
       "      <th>TRADE_DATE</th>\n",
       "      <th>INSTRUMENT_ID</th>\n",
       "      <th>MATURITY_DATE</th>\n",
       "      <th>ProdType</th>\n",
       "      <th>CompoSwap</th>\n",
       "      <th>MARKET_VALUE</th>\n",
       "      <th>CPYID</th>\n",
       "    </tr>\n",
       "    <tr>\n",
       "      <th>COB</th>\n",
       "      <th></th>\n",
       "      <th></th>\n",
       "      <th></th>\n",
       "      <th></th>\n",
       "      <th></th>\n",
       "      <th></th>\n",
       "      <th></th>\n",
       "    </tr>\n",
       "  </thead>\n",
       "  <tbody>\n",
       "    <tr>\n",
       "      <th>9/29/2021</th>\n",
       "      <td>2019-02-01</td>\n",
       "      <td>43456</td>\n",
       "      <td>2022-03-02</td>\n",
       "      <td>EQF</td>\n",
       "      <td>NO</td>\n",
       "      <td>100</td>\n",
       "      <td>32</td>\n",
       "    </tr>\n",
       "    <tr>\n",
       "      <th>9/29/2021</th>\n",
       "      <td>2019-02-01</td>\n",
       "      <td>43456</td>\n",
       "      <td>2022-03-02</td>\n",
       "      <td>EQF</td>\n",
       "      <td>NO</td>\n",
       "      <td>100</td>\n",
       "      <td>32</td>\n",
       "    </tr>\n",
       "    <tr>\n",
       "      <th>9/29/2021</th>\n",
       "      <td>2019-02-03</td>\n",
       "      <td>66778</td>\n",
       "      <td>2022-03-04</td>\n",
       "      <td>Swap</td>\n",
       "      <td>YES</td>\n",
       "      <td>200</td>\n",
       "      <td>55</td>\n",
       "    </tr>\n",
       "    <tr>\n",
       "      <th>9/29/2021</th>\n",
       "      <td>2019-02-04</td>\n",
       "      <td>88990</td>\n",
       "      <td>2022-03-05</td>\n",
       "      <td>Swap</td>\n",
       "      <td>NO</td>\n",
       "      <td>200</td>\n",
       "      <td>55</td>\n",
       "    </tr>\n",
       "  </tbody>\n",
       "</table>\n",
       "</div>"
      ],
      "text/plain": [
       "          TRADE_DATE  INSTRUMENT_ID MATURITY_DATE ProdType CompoSwap  \\\n",
       "COB                                                                    \n",
       "9/29/2021 2019-02-01          43456    2022-03-02      EQF        NO   \n",
       "9/29/2021 2019-02-01          43456    2022-03-02      EQF        NO   \n",
       "9/29/2021 2019-02-03          66778    2022-03-04     Swap       YES   \n",
       "9/29/2021 2019-02-04          88990    2022-03-05     Swap        NO   \n",
       "\n",
       "           MARKET_VALUE  CPYID  \n",
       "COB                             \n",
       "9/29/2021           100     32  \n",
       "9/29/2021           100     32  \n",
       "9/29/2021           200     55  \n",
       "9/29/2021           200     55  "
      ]
     },
     "execution_count": 43,
     "metadata": {},
     "output_type": "execute_result"
    }
   ],
   "source": [
    "trade_df1 = trade_df1[trade_df1['MATURITY_DATE'] > date(2021,9,29)]\n",
    "trade_df1"
   ]
  },
  {
   "cell_type": "code",
   "execution_count": 44,
   "id": "28f20536",
   "metadata": {},
   "outputs": [
    {
     "data": {
      "text/html": [
       "<div>\n",
       "<style scoped>\n",
       "    .dataframe tbody tr th:only-of-type {\n",
       "        vertical-align: middle;\n",
       "    }\n",
       "\n",
       "    .dataframe tbody tr th {\n",
       "        vertical-align: top;\n",
       "    }\n",
       "\n",
       "    .dataframe thead th {\n",
       "        text-align: right;\n",
       "    }\n",
       "</style>\n",
       "<table border=\"1\" class=\"dataframe\">\n",
       "  <thead>\n",
       "    <tr style=\"text-align: right;\">\n",
       "      <th></th>\n",
       "      <th>TRADE_DATE</th>\n",
       "      <th>INSTRUMENT_ID</th>\n",
       "      <th>MATURITY_DATE</th>\n",
       "      <th>ProdType</th>\n",
       "      <th>CompoSwap</th>\n",
       "      <th>MARKET_VALUE</th>\n",
       "      <th>CPYID</th>\n",
       "    </tr>\n",
       "    <tr>\n",
       "      <th>COB</th>\n",
       "      <th></th>\n",
       "      <th></th>\n",
       "      <th></th>\n",
       "      <th></th>\n",
       "      <th></th>\n",
       "      <th></th>\n",
       "      <th></th>\n",
       "    </tr>\n",
       "  </thead>\n",
       "  <tbody>\n",
       "    <tr>\n",
       "      <th>9/30/2021</th>\n",
       "      <td>2019-02-01</td>\n",
       "      <td>33456</td>\n",
       "      <td>2022-03-02</td>\n",
       "      <td>EQF</td>\n",
       "      <td>NO</td>\n",
       "      <td>100</td>\n",
       "      <td>32</td>\n",
       "    </tr>\n",
       "    <tr>\n",
       "      <th>9/30/2021</th>\n",
       "      <td>2019-02-01</td>\n",
       "      <td>33456</td>\n",
       "      <td>2022-03-02</td>\n",
       "      <td>EQF</td>\n",
       "      <td>NO</td>\n",
       "      <td>100</td>\n",
       "      <td>32</td>\n",
       "    </tr>\n",
       "    <tr>\n",
       "      <th>9/30/2021</th>\n",
       "      <td>2019-02-03</td>\n",
       "      <td>56778</td>\n",
       "      <td>2022-03-04</td>\n",
       "      <td>Swap</td>\n",
       "      <td>YES</td>\n",
       "      <td>300</td>\n",
       "      <td>55</td>\n",
       "    </tr>\n",
       "    <tr>\n",
       "      <th>9/30/2021</th>\n",
       "      <td>2019-02-04</td>\n",
       "      <td>78990</td>\n",
       "      <td>2022-03-05</td>\n",
       "      <td>Swap</td>\n",
       "      <td>NO</td>\n",
       "      <td>300</td>\n",
       "      <td>55</td>\n",
       "    </tr>\n",
       "  </tbody>\n",
       "</table>\n",
       "</div>"
      ],
      "text/plain": [
       "          TRADE_DATE  INSTRUMENT_ID MATURITY_DATE ProdType CompoSwap  \\\n",
       "COB                                                                    \n",
       "9/30/2021 2019-02-01          33456    2022-03-02      EQF        NO   \n",
       "9/30/2021 2019-02-01          33456    2022-03-02      EQF        NO   \n",
       "9/30/2021 2019-02-03          56778    2022-03-04     Swap       YES   \n",
       "9/30/2021 2019-02-04          78990    2022-03-05     Swap        NO   \n",
       "\n",
       "           MARKET_VALUE  CPYID  \n",
       "COB                             \n",
       "9/30/2021           100     32  \n",
       "9/30/2021           100     32  \n",
       "9/30/2021           300     55  \n",
       "9/30/2021           300     55  "
      ]
     },
     "execution_count": 44,
     "metadata": {},
     "output_type": "execute_result"
    }
   ],
   "source": [
    "trade_df2.head()"
   ]
  },
  {
   "cell_type": "code",
   "execution_count": 45,
   "id": "e4a49b2c",
   "metadata": {},
   "outputs": [
    {
     "data": {
      "text/html": [
       "<div>\n",
       "<style scoped>\n",
       "    .dataframe tbody tr th:only-of-type {\n",
       "        vertical-align: middle;\n",
       "    }\n",
       "\n",
       "    .dataframe tbody tr th {\n",
       "        vertical-align: top;\n",
       "    }\n",
       "\n",
       "    .dataframe thead th {\n",
       "        text-align: right;\n",
       "    }\n",
       "</style>\n",
       "<table border=\"1\" class=\"dataframe\">\n",
       "  <thead>\n",
       "    <tr style=\"text-align: right;\">\n",
       "      <th></th>\n",
       "      <th>TRADE_DATE</th>\n",
       "      <th>INSTRUMENT_ID</th>\n",
       "      <th>MATURITY_DATE</th>\n",
       "      <th>ProdType</th>\n",
       "      <th>CompoSwap</th>\n",
       "      <th>MARKET_VALUE</th>\n",
       "      <th>CPYID</th>\n",
       "    </tr>\n",
       "    <tr>\n",
       "      <th>COB</th>\n",
       "      <th></th>\n",
       "      <th></th>\n",
       "      <th></th>\n",
       "      <th></th>\n",
       "      <th></th>\n",
       "      <th></th>\n",
       "      <th></th>\n",
       "    </tr>\n",
       "  </thead>\n",
       "  <tbody>\n",
       "    <tr>\n",
       "      <th>9/29/2021</th>\n",
       "      <td>2019-02-01</td>\n",
       "      <td>43456</td>\n",
       "      <td>2022-03-02</td>\n",
       "      <td>EQF</td>\n",
       "      <td>NO</td>\n",
       "      <td>100</td>\n",
       "      <td>32</td>\n",
       "    </tr>\n",
       "    <tr>\n",
       "      <th>9/29/2021</th>\n",
       "      <td>2019-02-01</td>\n",
       "      <td>43456</td>\n",
       "      <td>2022-03-02</td>\n",
       "      <td>EQF</td>\n",
       "      <td>NO</td>\n",
       "      <td>100</td>\n",
       "      <td>32</td>\n",
       "    </tr>\n",
       "    <tr>\n",
       "      <th>9/29/2021</th>\n",
       "      <td>2019-02-03</td>\n",
       "      <td>66778</td>\n",
       "      <td>2022-03-04</td>\n",
       "      <td>Swap</td>\n",
       "      <td>YES</td>\n",
       "      <td>200</td>\n",
       "      <td>55</td>\n",
       "    </tr>\n",
       "    <tr>\n",
       "      <th>9/29/2021</th>\n",
       "      <td>2019-02-04</td>\n",
       "      <td>88990</td>\n",
       "      <td>2022-03-05</td>\n",
       "      <td>Swap</td>\n",
       "      <td>NO</td>\n",
       "      <td>200</td>\n",
       "      <td>55</td>\n",
       "    </tr>\n",
       "    <tr>\n",
       "      <th>9/30/2021</th>\n",
       "      <td>2019-02-01</td>\n",
       "      <td>33456</td>\n",
       "      <td>2022-03-02</td>\n",
       "      <td>EQF</td>\n",
       "      <td>NO</td>\n",
       "      <td>100</td>\n",
       "      <td>32</td>\n",
       "    </tr>\n",
       "    <tr>\n",
       "      <th>9/30/2021</th>\n",
       "      <td>2019-02-01</td>\n",
       "      <td>33456</td>\n",
       "      <td>2022-03-02</td>\n",
       "      <td>EQF</td>\n",
       "      <td>NO</td>\n",
       "      <td>100</td>\n",
       "      <td>32</td>\n",
       "    </tr>\n",
       "    <tr>\n",
       "      <th>9/30/2021</th>\n",
       "      <td>2019-02-03</td>\n",
       "      <td>56778</td>\n",
       "      <td>2022-03-04</td>\n",
       "      <td>Swap</td>\n",
       "      <td>YES</td>\n",
       "      <td>300</td>\n",
       "      <td>55</td>\n",
       "    </tr>\n",
       "    <tr>\n",
       "      <th>9/30/2021</th>\n",
       "      <td>2019-02-04</td>\n",
       "      <td>78990</td>\n",
       "      <td>2022-03-05</td>\n",
       "      <td>Swap</td>\n",
       "      <td>NO</td>\n",
       "      <td>300</td>\n",
       "      <td>55</td>\n",
       "    </tr>\n",
       "  </tbody>\n",
       "</table>\n",
       "</div>"
      ],
      "text/plain": [
       "          TRADE_DATE  INSTRUMENT_ID MATURITY_DATE ProdType CompoSwap  \\\n",
       "COB                                                                    \n",
       "9/29/2021 2019-02-01          43456    2022-03-02      EQF        NO   \n",
       "9/29/2021 2019-02-01          43456    2022-03-02      EQF        NO   \n",
       "9/29/2021 2019-02-03          66778    2022-03-04     Swap       YES   \n",
       "9/29/2021 2019-02-04          88990    2022-03-05     Swap        NO   \n",
       "9/30/2021 2019-02-01          33456    2022-03-02      EQF        NO   \n",
       "9/30/2021 2019-02-01          33456    2022-03-02      EQF        NO   \n",
       "9/30/2021 2019-02-03          56778    2022-03-04     Swap       YES   \n",
       "9/30/2021 2019-02-04          78990    2022-03-05     Swap        NO   \n",
       "\n",
       "           MARKET_VALUE  CPYID  \n",
       "COB                             \n",
       "9/29/2021           100     32  \n",
       "9/29/2021           100     32  \n",
       "9/29/2021           200     55  \n",
       "9/29/2021           200     55  \n",
       "9/30/2021           100     32  \n",
       "9/30/2021           100     32  \n",
       "9/30/2021           300     55  \n",
       "9/30/2021           300     55  "
      ]
     },
     "execution_count": 45,
     "metadata": {},
     "output_type": "execute_result"
    }
   ],
   "source": [
    "trade_df = pd.concat([trade_df1,trade_df2], axis=0)\n",
    "trade_df"
   ]
  },
  {
   "cell_type": "markdown",
   "id": "08b1c17d",
   "metadata": {},
   "source": [
    "#### Groupby and Pivot table"
   ]
  },
  {
   "cell_type": "markdown",
   "id": "7fd53241",
   "metadata": {},
   "source": [
    "<blockquote>\n",
    "By “group by” we are referring to a process involving one or more of the following steps:\n",
    "\n",
    "- Splitting the data into groups based on some criteria\n",
    "\n",
    "- Applying a function to each group independently\n",
    "\n",
    "- Combining the results into a data structure\n",
    "</blockquote>"
   ]
  },
  {
   "cell_type": "code",
   "execution_count": 95,
   "id": "9505c4d9",
   "metadata": {},
   "outputs": [
    {
     "data": {
      "text/plain": [
       "pandas.core.groupby.generic.DataFrameGroupBy"
      ]
     },
     "execution_count": 95,
     "metadata": {},
     "output_type": "execute_result"
    }
   ],
   "source": [
    "type(trade_df.groupby(by = ['COB','CPYID']))"
   ]
  },
  {
   "cell_type": "code",
   "execution_count": 96,
   "id": "a4c0472b",
   "metadata": {},
   "outputs": [
    {
     "data": {
      "text/html": [
       "<div>\n",
       "<style scoped>\n",
       "    .dataframe tbody tr th:only-of-type {\n",
       "        vertical-align: middle;\n",
       "    }\n",
       "\n",
       "    .dataframe tbody tr th {\n",
       "        vertical-align: top;\n",
       "    }\n",
       "\n",
       "    .dataframe thead tr th {\n",
       "        text-align: left;\n",
       "    }\n",
       "\n",
       "    .dataframe thead tr:last-of-type th {\n",
       "        text-align: right;\n",
       "    }\n",
       "</style>\n",
       "<table border=\"1\" class=\"dataframe\">\n",
       "  <thead>\n",
       "    <tr>\n",
       "      <th></th>\n",
       "      <th></th>\n",
       "      <th>INSTRUMENT_ID</th>\n",
       "      <th>MARKET_VALUE</th>\n",
       "    </tr>\n",
       "    <tr>\n",
       "      <th></th>\n",
       "      <th></th>\n",
       "      <th>&lt;lambda&gt;</th>\n",
       "      <th>sum</th>\n",
       "    </tr>\n",
       "    <tr>\n",
       "      <th>COB</th>\n",
       "      <th>CPYID</th>\n",
       "      <th></th>\n",
       "      <th></th>\n",
       "    </tr>\n",
       "  </thead>\n",
       "  <tbody>\n",
       "    <tr>\n",
       "      <th rowspan=\"2\" valign=\"top\">9/29/2021</th>\n",
       "      <th>32</th>\n",
       "      <td>1</td>\n",
       "      <td>200</td>\n",
       "    </tr>\n",
       "    <tr>\n",
       "      <th>55</th>\n",
       "      <td>2</td>\n",
       "      <td>400</td>\n",
       "    </tr>\n",
       "    <tr>\n",
       "      <th rowspan=\"2\" valign=\"top\">9/30/2021</th>\n",
       "      <th>32</th>\n",
       "      <td>1</td>\n",
       "      <td>200</td>\n",
       "    </tr>\n",
       "    <tr>\n",
       "      <th>55</th>\n",
       "      <td>2</td>\n",
       "      <td>600</td>\n",
       "    </tr>\n",
       "  </tbody>\n",
       "</table>\n",
       "</div>"
      ],
      "text/plain": [
       "                INSTRUMENT_ID MARKET_VALUE\n",
       "                     <lambda>          sum\n",
       "COB       CPYID                           \n",
       "9/29/2021 32                1          200\n",
       "          55                2          400\n",
       "9/30/2021 32                1          200\n",
       "          55                2          600"
      ]
     },
     "execution_count": 96,
     "metadata": {},
     "output_type": "execute_result"
    }
   ],
   "source": [
    "#https://pandas.pydata.org/pandas-docs/stable/reference/api/pandas.DataFrame.groupby.html\n",
    "trade_grp = trade_df.groupby(by = ['COB','CPYID']).agg({\n",
    "    'INSTRUMENT_ID': lambda x:x.nunique(),\n",
    "    'MARKET_VALUE':['sum']\n",
    "})\n",
    "trade_grp"
   ]
  },
  {
   "cell_type": "code",
   "execution_count": 97,
   "id": "142f7816",
   "metadata": {},
   "outputs": [
    {
     "data": {
      "text/plain": [
       "pandas.core.frame.DataFrame"
      ]
     },
     "execution_count": 97,
     "metadata": {},
     "output_type": "execute_result"
    }
   ],
   "source": [
    "type(trade_grp)"
   ]
  },
  {
   "cell_type": "code",
   "execution_count": 98,
   "id": "3cda9e03",
   "metadata": {},
   "outputs": [
    {
     "data": {
      "text/plain": [
       "MultiIndex([('9/29/2021', 32),\n",
       "            ('9/29/2021', 55),\n",
       "            ('9/30/2021', 32),\n",
       "            ('9/30/2021', 55)],\n",
       "           names=['COB', 'CPYID'])"
      ]
     },
     "execution_count": 98,
     "metadata": {},
     "output_type": "execute_result"
    }
   ],
   "source": [
    "trade_grp.index"
   ]
  },
  {
   "cell_type": "code",
   "execution_count": 99,
   "id": "10eba1b2",
   "metadata": {},
   "outputs": [
    {
     "data": {
      "text/plain": [
       "MultiIndex([('INSTRUMENT_ID', '<lambda>'),\n",
       "            ( 'MARKET_VALUE',      'sum')],\n",
       "           )"
      ]
     },
     "execution_count": 99,
     "metadata": {},
     "output_type": "execute_result"
    }
   ],
   "source": [
    "trade_grp.columns"
   ]
  },
  {
   "cell_type": "code",
   "execution_count": 65,
   "id": "d8b3604a",
   "metadata": {},
   "outputs": [
    {
     "data": {
      "text/html": [
       "<div>\n",
       "<style scoped>\n",
       "    .dataframe tbody tr th:only-of-type {\n",
       "        vertical-align: middle;\n",
       "    }\n",
       "\n",
       "    .dataframe tbody tr th {\n",
       "        vertical-align: top;\n",
       "    }\n",
       "\n",
       "    .dataframe thead tr th {\n",
       "        text-align: left;\n",
       "    }\n",
       "</style>\n",
       "<table border=\"1\" class=\"dataframe\">\n",
       "  <thead>\n",
       "    <tr>\n",
       "      <th></th>\n",
       "      <th>COB</th>\n",
       "      <th>CPYID</th>\n",
       "      <th>INSTRUMENT_ID</th>\n",
       "      <th>MARKET_VALUE</th>\n",
       "    </tr>\n",
       "    <tr>\n",
       "      <th></th>\n",
       "      <th></th>\n",
       "      <th></th>\n",
       "      <th>&lt;lambda&gt;</th>\n",
       "      <th>sum</th>\n",
       "    </tr>\n",
       "  </thead>\n",
       "  <tbody>\n",
       "    <tr>\n",
       "      <th>0</th>\n",
       "      <td>9/29/2021</td>\n",
       "      <td>32</td>\n",
       "      <td>1</td>\n",
       "      <td>200</td>\n",
       "    </tr>\n",
       "    <tr>\n",
       "      <th>1</th>\n",
       "      <td>9/29/2021</td>\n",
       "      <td>55</td>\n",
       "      <td>2</td>\n",
       "      <td>400</td>\n",
       "    </tr>\n",
       "    <tr>\n",
       "      <th>2</th>\n",
       "      <td>9/30/2021</td>\n",
       "      <td>32</td>\n",
       "      <td>1</td>\n",
       "      <td>200</td>\n",
       "    </tr>\n",
       "    <tr>\n",
       "      <th>3</th>\n",
       "      <td>9/30/2021</td>\n",
       "      <td>55</td>\n",
       "      <td>2</td>\n",
       "      <td>600</td>\n",
       "    </tr>\n",
       "  </tbody>\n",
       "</table>\n",
       "</div>"
      ],
      "text/plain": [
       "         COB CPYID INSTRUMENT_ID MARKET_VALUE\n",
       "                        <lambda>          sum\n",
       "0  9/29/2021    32             1          200\n",
       "1  9/29/2021    55             2          400\n",
       "2  9/30/2021    32             1          200\n",
       "3  9/30/2021    55             2          600"
      ]
     },
     "execution_count": 65,
     "metadata": {},
     "output_type": "execute_result"
    }
   ],
   "source": [
    "trade_grp = trade_grp.reset_index()\n",
    "trade_grp"
   ]
  },
  {
   "cell_type": "code",
   "execution_count": 66,
   "id": "be38a9ff",
   "metadata": {},
   "outputs": [
    {
     "data": {
      "text/html": [
       "<div>\n",
       "<style scoped>\n",
       "    .dataframe tbody tr th:only-of-type {\n",
       "        vertical-align: middle;\n",
       "    }\n",
       "\n",
       "    .dataframe tbody tr th {\n",
       "        vertical-align: top;\n",
       "    }\n",
       "\n",
       "    .dataframe thead th {\n",
       "        text-align: right;\n",
       "    }\n",
       "</style>\n",
       "<table border=\"1\" class=\"dataframe\">\n",
       "  <thead>\n",
       "    <tr style=\"text-align: right;\">\n",
       "      <th></th>\n",
       "      <th>COB</th>\n",
       "      <th>CPYID</th>\n",
       "      <th>INSTRUMENT_ID</th>\n",
       "      <th>MARKET_VALUE</th>\n",
       "    </tr>\n",
       "  </thead>\n",
       "  <tbody>\n",
       "    <tr>\n",
       "      <th>0</th>\n",
       "      <td>9/29/2021</td>\n",
       "      <td>32</td>\n",
       "      <td>1</td>\n",
       "      <td>200</td>\n",
       "    </tr>\n",
       "    <tr>\n",
       "      <th>1</th>\n",
       "      <td>9/29/2021</td>\n",
       "      <td>55</td>\n",
       "      <td>2</td>\n",
       "      <td>400</td>\n",
       "    </tr>\n",
       "    <tr>\n",
       "      <th>2</th>\n",
       "      <td>9/30/2021</td>\n",
       "      <td>32</td>\n",
       "      <td>1</td>\n",
       "      <td>200</td>\n",
       "    </tr>\n",
       "    <tr>\n",
       "      <th>3</th>\n",
       "      <td>9/30/2021</td>\n",
       "      <td>55</td>\n",
       "      <td>2</td>\n",
       "      <td>600</td>\n",
       "    </tr>\n",
       "  </tbody>\n",
       "</table>\n",
       "</div>"
      ],
      "text/plain": [
       "         COB  CPYID  INSTRUMENT_ID  MARKET_VALUE\n",
       "0  9/29/2021     32              1           200\n",
       "1  9/29/2021     55              2           400\n",
       "2  9/30/2021     32              1           200\n",
       "3  9/30/2021     55              2           600"
      ]
     },
     "execution_count": 66,
     "metadata": {},
     "output_type": "execute_result"
    }
   ],
   "source": [
    "trade_grp = trade_grp.droplevel(level = 1, axis = 1)\n",
    "trade_grp"
   ]
  },
  {
   "cell_type": "code",
   "execution_count": 67,
   "id": "3dd3882e",
   "metadata": {},
   "outputs": [
    {
     "data": {
      "text/html": [
       "<div>\n",
       "<style scoped>\n",
       "    .dataframe tbody tr th:only-of-type {\n",
       "        vertical-align: middle;\n",
       "    }\n",
       "\n",
       "    .dataframe tbody tr th {\n",
       "        vertical-align: top;\n",
       "    }\n",
       "\n",
       "    .dataframe thead th {\n",
       "        text-align: right;\n",
       "    }\n",
       "</style>\n",
       "<table border=\"1\" class=\"dataframe\">\n",
       "  <thead>\n",
       "    <tr style=\"text-align: right;\">\n",
       "      <th>CPYID</th>\n",
       "      <th>32</th>\n",
       "      <th>55</th>\n",
       "    </tr>\n",
       "    <tr>\n",
       "      <th>COB</th>\n",
       "      <th></th>\n",
       "      <th></th>\n",
       "    </tr>\n",
       "  </thead>\n",
       "  <tbody>\n",
       "    <tr>\n",
       "      <th>9/29/2021</th>\n",
       "      <td>200</td>\n",
       "      <td>400</td>\n",
       "    </tr>\n",
       "    <tr>\n",
       "      <th>9/30/2021</th>\n",
       "      <td>200</td>\n",
       "      <td>600</td>\n",
       "    </tr>\n",
       "  </tbody>\n",
       "</table>\n",
       "</div>"
      ],
      "text/plain": [
       "CPYID       32   55\n",
       "COB                \n",
       "9/29/2021  200  400\n",
       "9/30/2021  200  600"
      ]
     },
     "execution_count": 67,
     "metadata": {},
     "output_type": "execute_result"
    }
   ],
   "source": [
    "trade_grp_pvt = trade_grp.pivot(index='COB',columns='CPYID', values = 'MARKET_VALUE')\n",
    "trade_grp_pvt"
   ]
  },
  {
   "cell_type": "code",
   "execution_count": 68,
   "id": "93b2049e",
   "metadata": {},
   "outputs": [
    {
     "data": {
      "text/html": [
       "<div>\n",
       "<style scoped>\n",
       "    .dataframe tbody tr th:only-of-type {\n",
       "        vertical-align: middle;\n",
       "    }\n",
       "\n",
       "    .dataframe tbody tr th {\n",
       "        vertical-align: top;\n",
       "    }\n",
       "\n",
       "    .dataframe thead th {\n",
       "        text-align: right;\n",
       "    }\n",
       "</style>\n",
       "<table border=\"1\" class=\"dataframe\">\n",
       "  <thead>\n",
       "    <tr style=\"text-align: right;\">\n",
       "      <th>CPYID</th>\n",
       "      <th>32</th>\n",
       "      <th>55</th>\n",
       "    </tr>\n",
       "    <tr>\n",
       "      <th>COB</th>\n",
       "      <th></th>\n",
       "      <th></th>\n",
       "    </tr>\n",
       "  </thead>\n",
       "  <tbody>\n",
       "    <tr>\n",
       "      <th>9/29/2021</th>\n",
       "      <td>200</td>\n",
       "      <td>400</td>\n",
       "    </tr>\n",
       "    <tr>\n",
       "      <th>9/30/2021</th>\n",
       "      <td>200</td>\n",
       "      <td>600</td>\n",
       "    </tr>\n",
       "  </tbody>\n",
       "</table>\n",
       "</div>"
      ],
      "text/plain": [
       "CPYID       32   55\n",
       "COB                \n",
       "9/29/2021  200  400\n",
       "9/30/2021  200  600"
      ]
     },
     "execution_count": 68,
     "metadata": {},
     "output_type": "execute_result"
    }
   ],
   "source": [
    "#https://pandas.pydata.org/pandas-docs/stable/reference/api/pandas.DataFrame.pivot_table.html\n",
    "trade_tbl = trade_df.pivot_table(values='MARKET_VALUE', index=['COB'], columns=['CPYID'], aggfunc=np.sum)\n",
    "trade_tbl"
   ]
  },
  {
   "cell_type": "markdown",
   "id": "57bc58e0",
   "metadata": {},
   "source": [
    "#### Merge/join two tables"
   ]
  },
  {
   "cell_type": "code",
   "execution_count": 12,
   "id": "8a815743",
   "metadata": {},
   "outputs": [
    {
     "data": {
      "text/html": [
       "<div>\n",
       "<style scoped>\n",
       "    .dataframe tbody tr th:only-of-type {\n",
       "        vertical-align: middle;\n",
       "    }\n",
       "\n",
       "    .dataframe tbody tr th {\n",
       "        vertical-align: top;\n",
       "    }\n",
       "\n",
       "    .dataframe thead th {\n",
       "        text-align: right;\n",
       "    }\n",
       "</style>\n",
       "<table border=\"1\" class=\"dataframe\">\n",
       "  <thead>\n",
       "    <tr style=\"text-align: right;\">\n",
       "      <th></th>\n",
       "      <th>TRADE_DATE_left</th>\n",
       "      <th>INSTRUMENT_ID_left</th>\n",
       "      <th>MATURITY_DATE_left</th>\n",
       "      <th>ProdType_left</th>\n",
       "      <th>CompoSwap_left</th>\n",
       "      <th>MARKET_VALUE_left</th>\n",
       "      <th>CPYID</th>\n",
       "      <th>TRADE_DATE_right</th>\n",
       "      <th>INSTRUMENT_ID_right</th>\n",
       "      <th>MATURITY_DATE_right</th>\n",
       "      <th>ProdType_right</th>\n",
       "      <th>CompoSwap_right</th>\n",
       "      <th>MARKET_VALUE_right</th>\n",
       "    </tr>\n",
       "  </thead>\n",
       "  <tbody>\n",
       "    <tr>\n",
       "      <th>0</th>\n",
       "      <td>2019-02-01</td>\n",
       "      <td>43456</td>\n",
       "      <td>2022-03-02</td>\n",
       "      <td>EQF</td>\n",
       "      <td>NO</td>\n",
       "      <td>100</td>\n",
       "      <td>32</td>\n",
       "      <td>2019-02-01</td>\n",
       "      <td>33456</td>\n",
       "      <td>2022-03-02</td>\n",
       "      <td>EQF</td>\n",
       "      <td>NO</td>\n",
       "      <td>100</td>\n",
       "    </tr>\n",
       "    <tr>\n",
       "      <th>1</th>\n",
       "      <td>2019-02-01</td>\n",
       "      <td>43456</td>\n",
       "      <td>2022-03-02</td>\n",
       "      <td>EQF</td>\n",
       "      <td>NO</td>\n",
       "      <td>100</td>\n",
       "      <td>32</td>\n",
       "      <td>2019-02-01</td>\n",
       "      <td>33456</td>\n",
       "      <td>2022-03-02</td>\n",
       "      <td>EQF</td>\n",
       "      <td>NO</td>\n",
       "      <td>100</td>\n",
       "    </tr>\n",
       "    <tr>\n",
       "      <th>2</th>\n",
       "      <td>2019-02-01</td>\n",
       "      <td>43456</td>\n",
       "      <td>2022-03-02</td>\n",
       "      <td>EQF</td>\n",
       "      <td>NO</td>\n",
       "      <td>100</td>\n",
       "      <td>32</td>\n",
       "      <td>2019-02-01</td>\n",
       "      <td>33456</td>\n",
       "      <td>2022-03-02</td>\n",
       "      <td>EQF</td>\n",
       "      <td>NO</td>\n",
       "      <td>100</td>\n",
       "    </tr>\n",
       "    <tr>\n",
       "      <th>3</th>\n",
       "      <td>2019-02-01</td>\n",
       "      <td>43456</td>\n",
       "      <td>2022-03-02</td>\n",
       "      <td>EQF</td>\n",
       "      <td>NO</td>\n",
       "      <td>100</td>\n",
       "      <td>32</td>\n",
       "      <td>2019-02-01</td>\n",
       "      <td>33456</td>\n",
       "      <td>2022-03-02</td>\n",
       "      <td>EQF</td>\n",
       "      <td>NO</td>\n",
       "      <td>100</td>\n",
       "    </tr>\n",
       "    <tr>\n",
       "      <th>4</th>\n",
       "      <td>2019-02-03</td>\n",
       "      <td>66778</td>\n",
       "      <td>2022-03-04</td>\n",
       "      <td>Swap</td>\n",
       "      <td>YES</td>\n",
       "      <td>200</td>\n",
       "      <td>55</td>\n",
       "      <td>2019-02-03</td>\n",
       "      <td>56778</td>\n",
       "      <td>2022-03-04</td>\n",
       "      <td>Swap</td>\n",
       "      <td>YES</td>\n",
       "      <td>300</td>\n",
       "    </tr>\n",
       "    <tr>\n",
       "      <th>5</th>\n",
       "      <td>2019-02-03</td>\n",
       "      <td>66778</td>\n",
       "      <td>2022-03-04</td>\n",
       "      <td>Swap</td>\n",
       "      <td>YES</td>\n",
       "      <td>200</td>\n",
       "      <td>55</td>\n",
       "      <td>2019-02-04</td>\n",
       "      <td>78990</td>\n",
       "      <td>2022-03-05</td>\n",
       "      <td>Swap</td>\n",
       "      <td>NO</td>\n",
       "      <td>300</td>\n",
       "    </tr>\n",
       "    <tr>\n",
       "      <th>6</th>\n",
       "      <td>2019-02-04</td>\n",
       "      <td>88990</td>\n",
       "      <td>2022-03-05</td>\n",
       "      <td>Swap</td>\n",
       "      <td>NO</td>\n",
       "      <td>200</td>\n",
       "      <td>55</td>\n",
       "      <td>2019-02-03</td>\n",
       "      <td>56778</td>\n",
       "      <td>2022-03-04</td>\n",
       "      <td>Swap</td>\n",
       "      <td>YES</td>\n",
       "      <td>300</td>\n",
       "    </tr>\n",
       "    <tr>\n",
       "      <th>7</th>\n",
       "      <td>2019-02-04</td>\n",
       "      <td>88990</td>\n",
       "      <td>2022-03-05</td>\n",
       "      <td>Swap</td>\n",
       "      <td>NO</td>\n",
       "      <td>200</td>\n",
       "      <td>55</td>\n",
       "      <td>2019-02-04</td>\n",
       "      <td>78990</td>\n",
       "      <td>2022-03-05</td>\n",
       "      <td>Swap</td>\n",
       "      <td>NO</td>\n",
       "      <td>300</td>\n",
       "    </tr>\n",
       "  </tbody>\n",
       "</table>\n",
       "</div>"
      ],
      "text/plain": [
       "  TRADE_DATE_left  INSTRUMENT_ID_left MATURITY_DATE_left ProdType_left  \\\n",
       "0      2019-02-01               43456         2022-03-02           EQF   \n",
       "1      2019-02-01               43456         2022-03-02           EQF   \n",
       "2      2019-02-01               43456         2022-03-02           EQF   \n",
       "3      2019-02-01               43456         2022-03-02           EQF   \n",
       "4      2019-02-03               66778         2022-03-04          Swap   \n",
       "5      2019-02-03               66778         2022-03-04          Swap   \n",
       "6      2019-02-04               88990         2022-03-05          Swap   \n",
       "7      2019-02-04               88990         2022-03-05          Swap   \n",
       "\n",
       "  CompoSwap_left  MARKET_VALUE_left  CPYID TRADE_DATE_right  \\\n",
       "0             NO                100     32       2019-02-01   \n",
       "1             NO                100     32       2019-02-01   \n",
       "2             NO                100     32       2019-02-01   \n",
       "3             NO                100     32       2019-02-01   \n",
       "4            YES                200     55       2019-02-03   \n",
       "5            YES                200     55       2019-02-04   \n",
       "6             NO                200     55       2019-02-03   \n",
       "7             NO                200     55       2019-02-04   \n",
       "\n",
       "   INSTRUMENT_ID_right MATURITY_DATE_right ProdType_right CompoSwap_right  \\\n",
       "0                33456          2022-03-02            EQF              NO   \n",
       "1                33456          2022-03-02            EQF              NO   \n",
       "2                33456          2022-03-02            EQF              NO   \n",
       "3                33456          2022-03-02            EQF              NO   \n",
       "4                56778          2022-03-04           Swap             YES   \n",
       "5                78990          2022-03-05           Swap              NO   \n",
       "6                56778          2022-03-04           Swap             YES   \n",
       "7                78990          2022-03-05           Swap              NO   \n",
       "\n",
       "   MARKET_VALUE_right  \n",
       "0                 100  \n",
       "1                 100  \n",
       "2                 100  \n",
       "3                 100  \n",
       "4                 300  \n",
       "5                 300  \n",
       "6                 300  \n",
       "7                 300  "
      ]
     },
     "execution_count": 12,
     "metadata": {},
     "output_type": "execute_result"
    }
   ],
   "source": [
    "merged_df = trade_df1.merge(trade_df2, how='inner', on='CPYID',suffixes=('_left', '_right'))\n",
    "merged_df"
   ]
  },
  {
   "cell_type": "markdown",
   "id": "2548f60c",
   "metadata": {},
   "source": [
    "#### Add a new column, drop a column"
   ]
  },
  {
   "cell_type": "code",
   "execution_count": 69,
   "id": "3a45ee98",
   "metadata": {},
   "outputs": [
    {
     "data": {
      "text/html": [
       "<div>\n",
       "<style scoped>\n",
       "    .dataframe tbody tr th:only-of-type {\n",
       "        vertical-align: middle;\n",
       "    }\n",
       "\n",
       "    .dataframe tbody tr th {\n",
       "        vertical-align: top;\n",
       "    }\n",
       "\n",
       "    .dataframe thead th {\n",
       "        text-align: right;\n",
       "    }\n",
       "</style>\n",
       "<table border=\"1\" class=\"dataframe\">\n",
       "  <thead>\n",
       "    <tr style=\"text-align: right;\">\n",
       "      <th></th>\n",
       "      <th>TRADE_DATE</th>\n",
       "      <th>INSTRUMENT_ID</th>\n",
       "      <th>MATURITY_DATE</th>\n",
       "      <th>ProdType</th>\n",
       "      <th>CompoSwap</th>\n",
       "      <th>MARKET_VALUE</th>\n",
       "      <th>CPYID</th>\n",
       "    </tr>\n",
       "    <tr>\n",
       "      <th>COB</th>\n",
       "      <th></th>\n",
       "      <th></th>\n",
       "      <th></th>\n",
       "      <th></th>\n",
       "      <th></th>\n",
       "      <th></th>\n",
       "      <th></th>\n",
       "    </tr>\n",
       "  </thead>\n",
       "  <tbody>\n",
       "    <tr>\n",
       "      <th>9/29/2021</th>\n",
       "      <td>2019-02-01</td>\n",
       "      <td>43456</td>\n",
       "      <td>2022-03-02</td>\n",
       "      <td>EQF</td>\n",
       "      <td>NO</td>\n",
       "      <td>100</td>\n",
       "      <td>32</td>\n",
       "    </tr>\n",
       "    <tr>\n",
       "      <th>9/29/2021</th>\n",
       "      <td>2019-02-01</td>\n",
       "      <td>43456</td>\n",
       "      <td>2022-03-02</td>\n",
       "      <td>EQF</td>\n",
       "      <td>NO</td>\n",
       "      <td>100</td>\n",
       "      <td>32</td>\n",
       "    </tr>\n",
       "    <tr>\n",
       "      <th>9/29/2021</th>\n",
       "      <td>2019-02-03</td>\n",
       "      <td>66778</td>\n",
       "      <td>2022-03-04</td>\n",
       "      <td>Swap</td>\n",
       "      <td>YES</td>\n",
       "      <td>200</td>\n",
       "      <td>55</td>\n",
       "    </tr>\n",
       "    <tr>\n",
       "      <th>9/29/2021</th>\n",
       "      <td>2019-02-04</td>\n",
       "      <td>88990</td>\n",
       "      <td>2022-03-05</td>\n",
       "      <td>Swap</td>\n",
       "      <td>NO</td>\n",
       "      <td>200</td>\n",
       "      <td>55</td>\n",
       "    </tr>\n",
       "  </tbody>\n",
       "</table>\n",
       "</div>"
      ],
      "text/plain": [
       "          TRADE_DATE  INSTRUMENT_ID MATURITY_DATE ProdType CompoSwap  \\\n",
       "COB                                                                    \n",
       "9/29/2021 2019-02-01          43456    2022-03-02      EQF        NO   \n",
       "9/29/2021 2019-02-01          43456    2022-03-02      EQF        NO   \n",
       "9/29/2021 2019-02-03          66778    2022-03-04     Swap       YES   \n",
       "9/29/2021 2019-02-04          88990    2022-03-05     Swap        NO   \n",
       "\n",
       "           MARKET_VALUE  CPYID  \n",
       "COB                             \n",
       "9/29/2021           100     32  \n",
       "9/29/2021           100     32  \n",
       "9/29/2021           200     55  \n",
       "9/29/2021           200     55  "
      ]
     },
     "execution_count": 69,
     "metadata": {},
     "output_type": "execute_result"
    }
   ],
   "source": [
    "trade_df1"
   ]
  },
  {
   "cell_type": "code",
   "execution_count": 70,
   "id": "87692987",
   "metadata": {},
   "outputs": [],
   "source": [
    "trade_df1['FX_RATE'] = [1.0,1.2,1.3,1.4]"
   ]
  },
  {
   "cell_type": "code",
   "execution_count": 71,
   "id": "14aa1359",
   "metadata": {},
   "outputs": [
    {
     "data": {
      "text/html": [
       "<div>\n",
       "<style scoped>\n",
       "    .dataframe tbody tr th:only-of-type {\n",
       "        vertical-align: middle;\n",
       "    }\n",
       "\n",
       "    .dataframe tbody tr th {\n",
       "        vertical-align: top;\n",
       "    }\n",
       "\n",
       "    .dataframe thead th {\n",
       "        text-align: right;\n",
       "    }\n",
       "</style>\n",
       "<table border=\"1\" class=\"dataframe\">\n",
       "  <thead>\n",
       "    <tr style=\"text-align: right;\">\n",
       "      <th></th>\n",
       "      <th>TRADE_DATE</th>\n",
       "      <th>INSTRUMENT_ID</th>\n",
       "      <th>MATURITY_DATE</th>\n",
       "      <th>ProdType</th>\n",
       "      <th>CompoSwap</th>\n",
       "      <th>MARKET_VALUE</th>\n",
       "      <th>CPYID</th>\n",
       "      <th>FX_RATE</th>\n",
       "    </tr>\n",
       "    <tr>\n",
       "      <th>COB</th>\n",
       "      <th></th>\n",
       "      <th></th>\n",
       "      <th></th>\n",
       "      <th></th>\n",
       "      <th></th>\n",
       "      <th></th>\n",
       "      <th></th>\n",
       "      <th></th>\n",
       "    </tr>\n",
       "  </thead>\n",
       "  <tbody>\n",
       "    <tr>\n",
       "      <th>9/29/2021</th>\n",
       "      <td>2019-02-01</td>\n",
       "      <td>43456</td>\n",
       "      <td>2022-03-02</td>\n",
       "      <td>EQF</td>\n",
       "      <td>NO</td>\n",
       "      <td>100</td>\n",
       "      <td>32</td>\n",
       "      <td>1.0</td>\n",
       "    </tr>\n",
       "    <tr>\n",
       "      <th>9/29/2021</th>\n",
       "      <td>2019-02-01</td>\n",
       "      <td>43456</td>\n",
       "      <td>2022-03-02</td>\n",
       "      <td>EQF</td>\n",
       "      <td>NO</td>\n",
       "      <td>100</td>\n",
       "      <td>32</td>\n",
       "      <td>1.2</td>\n",
       "    </tr>\n",
       "    <tr>\n",
       "      <th>9/29/2021</th>\n",
       "      <td>2019-02-03</td>\n",
       "      <td>66778</td>\n",
       "      <td>2022-03-04</td>\n",
       "      <td>Swap</td>\n",
       "      <td>YES</td>\n",
       "      <td>200</td>\n",
       "      <td>55</td>\n",
       "      <td>1.3</td>\n",
       "    </tr>\n",
       "    <tr>\n",
       "      <th>9/29/2021</th>\n",
       "      <td>2019-02-04</td>\n",
       "      <td>88990</td>\n",
       "      <td>2022-03-05</td>\n",
       "      <td>Swap</td>\n",
       "      <td>NO</td>\n",
       "      <td>200</td>\n",
       "      <td>55</td>\n",
       "      <td>1.4</td>\n",
       "    </tr>\n",
       "  </tbody>\n",
       "</table>\n",
       "</div>"
      ],
      "text/plain": [
       "          TRADE_DATE  INSTRUMENT_ID MATURITY_DATE ProdType CompoSwap  \\\n",
       "COB                                                                    \n",
       "9/29/2021 2019-02-01          43456    2022-03-02      EQF        NO   \n",
       "9/29/2021 2019-02-01          43456    2022-03-02      EQF        NO   \n",
       "9/29/2021 2019-02-03          66778    2022-03-04     Swap       YES   \n",
       "9/29/2021 2019-02-04          88990    2022-03-05     Swap        NO   \n",
       "\n",
       "           MARKET_VALUE  CPYID  FX_RATE  \n",
       "COB                                      \n",
       "9/29/2021           100     32      1.0  \n",
       "9/29/2021           100     32      1.2  \n",
       "9/29/2021           200     55      1.3  \n",
       "9/29/2021           200     55      1.4  "
      ]
     },
     "execution_count": 71,
     "metadata": {},
     "output_type": "execute_result"
    }
   ],
   "source": [
    "trade_df1"
   ]
  },
  {
   "cell_type": "code",
   "execution_count": 72,
   "id": "bb50c5b8",
   "metadata": {},
   "outputs": [
    {
     "data": {
      "text/html": [
       "<div>\n",
       "<style scoped>\n",
       "    .dataframe tbody tr th:only-of-type {\n",
       "        vertical-align: middle;\n",
       "    }\n",
       "\n",
       "    .dataframe tbody tr th {\n",
       "        vertical-align: top;\n",
       "    }\n",
       "\n",
       "    .dataframe thead th {\n",
       "        text-align: right;\n",
       "    }\n",
       "</style>\n",
       "<table border=\"1\" class=\"dataframe\">\n",
       "  <thead>\n",
       "    <tr style=\"text-align: right;\">\n",
       "      <th></th>\n",
       "      <th>TRADE_DATE</th>\n",
       "      <th>INSTRUMENT_ID</th>\n",
       "      <th>MATURITY_DATE</th>\n",
       "      <th>ProdType</th>\n",
       "      <th>CompoSwap</th>\n",
       "      <th>MARKET_VALUE</th>\n",
       "      <th>CPYID</th>\n",
       "      <th>FX_RATE</th>\n",
       "      <th>MARKET_VALUE_USD</th>\n",
       "    </tr>\n",
       "    <tr>\n",
       "      <th>COB</th>\n",
       "      <th></th>\n",
       "      <th></th>\n",
       "      <th></th>\n",
       "      <th></th>\n",
       "      <th></th>\n",
       "      <th></th>\n",
       "      <th></th>\n",
       "      <th></th>\n",
       "      <th></th>\n",
       "    </tr>\n",
       "  </thead>\n",
       "  <tbody>\n",
       "    <tr>\n",
       "      <th>9/29/2021</th>\n",
       "      <td>2019-02-01</td>\n",
       "      <td>43456</td>\n",
       "      <td>2022-03-02</td>\n",
       "      <td>EQF</td>\n",
       "      <td>NO</td>\n",
       "      <td>100</td>\n",
       "      <td>32</td>\n",
       "      <td>1.0</td>\n",
       "      <td>100.0</td>\n",
       "    </tr>\n",
       "    <tr>\n",
       "      <th>9/29/2021</th>\n",
       "      <td>2019-02-01</td>\n",
       "      <td>43456</td>\n",
       "      <td>2022-03-02</td>\n",
       "      <td>EQF</td>\n",
       "      <td>NO</td>\n",
       "      <td>100</td>\n",
       "      <td>32</td>\n",
       "      <td>1.2</td>\n",
       "      <td>120.0</td>\n",
       "    </tr>\n",
       "    <tr>\n",
       "      <th>9/29/2021</th>\n",
       "      <td>2019-02-03</td>\n",
       "      <td>66778</td>\n",
       "      <td>2022-03-04</td>\n",
       "      <td>Swap</td>\n",
       "      <td>YES</td>\n",
       "      <td>200</td>\n",
       "      <td>55</td>\n",
       "      <td>1.3</td>\n",
       "      <td>260.0</td>\n",
       "    </tr>\n",
       "    <tr>\n",
       "      <th>9/29/2021</th>\n",
       "      <td>2019-02-04</td>\n",
       "      <td>88990</td>\n",
       "      <td>2022-03-05</td>\n",
       "      <td>Swap</td>\n",
       "      <td>NO</td>\n",
       "      <td>200</td>\n",
       "      <td>55</td>\n",
       "      <td>1.4</td>\n",
       "      <td>280.0</td>\n",
       "    </tr>\n",
       "  </tbody>\n",
       "</table>\n",
       "</div>"
      ],
      "text/plain": [
       "          TRADE_DATE  INSTRUMENT_ID MATURITY_DATE ProdType CompoSwap  \\\n",
       "COB                                                                    \n",
       "9/29/2021 2019-02-01          43456    2022-03-02      EQF        NO   \n",
       "9/29/2021 2019-02-01          43456    2022-03-02      EQF        NO   \n",
       "9/29/2021 2019-02-03          66778    2022-03-04     Swap       YES   \n",
       "9/29/2021 2019-02-04          88990    2022-03-05     Swap        NO   \n",
       "\n",
       "           MARKET_VALUE  CPYID  FX_RATE  MARKET_VALUE_USD  \n",
       "COB                                                        \n",
       "9/29/2021           100     32      1.0             100.0  \n",
       "9/29/2021           100     32      1.2             120.0  \n",
       "9/29/2021           200     55      1.3             260.0  \n",
       "9/29/2021           200     55      1.4             280.0  "
      ]
     },
     "execution_count": 72,
     "metadata": {},
     "output_type": "execute_result"
    }
   ],
   "source": [
    "trade_df1['MARKET_VALUE_USD'] = trade_df1['MARKET_VALUE']*trade_df1['FX_RATE']\n",
    "trade_df1"
   ]
  },
  {
   "cell_type": "code",
   "execution_count": 81,
   "id": "2f129c49",
   "metadata": {},
   "outputs": [
    {
     "data": {
      "text/html": [
       "<div>\n",
       "<style scoped>\n",
       "    .dataframe tbody tr th:only-of-type {\n",
       "        vertical-align: middle;\n",
       "    }\n",
       "\n",
       "    .dataframe tbody tr th {\n",
       "        vertical-align: top;\n",
       "    }\n",
       "\n",
       "    .dataframe thead th {\n",
       "        text-align: right;\n",
       "    }\n",
       "</style>\n",
       "<table border=\"1\" class=\"dataframe\">\n",
       "  <thead>\n",
       "    <tr style=\"text-align: right;\">\n",
       "      <th></th>\n",
       "      <th>TRADE_DATE</th>\n",
       "      <th>INSTRUMENT_ID</th>\n",
       "      <th>MATURITY_DATE</th>\n",
       "      <th>ProdType</th>\n",
       "      <th>CompoSwap</th>\n",
       "      <th>MARKET_VALUE</th>\n",
       "      <th>CPYID</th>\n",
       "      <th>MARKET_VALUE_USD</th>\n",
       "    </tr>\n",
       "    <tr>\n",
       "      <th>COB</th>\n",
       "      <th></th>\n",
       "      <th></th>\n",
       "      <th></th>\n",
       "      <th></th>\n",
       "      <th></th>\n",
       "      <th></th>\n",
       "      <th></th>\n",
       "      <th></th>\n",
       "    </tr>\n",
       "  </thead>\n",
       "  <tbody>\n",
       "    <tr>\n",
       "      <th>9/29/2021</th>\n",
       "      <td>2019-02-01</td>\n",
       "      <td>43456</td>\n",
       "      <td>2022-03-02</td>\n",
       "      <td>EQF</td>\n",
       "      <td>NO</td>\n",
       "      <td>100</td>\n",
       "      <td>32</td>\n",
       "      <td>100.0</td>\n",
       "    </tr>\n",
       "    <tr>\n",
       "      <th>9/29/2021</th>\n",
       "      <td>2019-02-01</td>\n",
       "      <td>43456</td>\n",
       "      <td>2022-03-02</td>\n",
       "      <td>EQF</td>\n",
       "      <td>NO</td>\n",
       "      <td>100</td>\n",
       "      <td>32</td>\n",
       "      <td>120.0</td>\n",
       "    </tr>\n",
       "    <tr>\n",
       "      <th>9/29/2021</th>\n",
       "      <td>2019-02-03</td>\n",
       "      <td>66778</td>\n",
       "      <td>2022-03-04</td>\n",
       "      <td>Swap</td>\n",
       "      <td>YES</td>\n",
       "      <td>200</td>\n",
       "      <td>55</td>\n",
       "      <td>260.0</td>\n",
       "    </tr>\n",
       "    <tr>\n",
       "      <th>9/29/2021</th>\n",
       "      <td>2019-02-04</td>\n",
       "      <td>88990</td>\n",
       "      <td>2022-03-05</td>\n",
       "      <td>Swap</td>\n",
       "      <td>NO</td>\n",
       "      <td>200</td>\n",
       "      <td>55</td>\n",
       "      <td>280.0</td>\n",
       "    </tr>\n",
       "  </tbody>\n",
       "</table>\n",
       "</div>"
      ],
      "text/plain": [
       "          TRADE_DATE  INSTRUMENT_ID MATURITY_DATE ProdType CompoSwap  \\\n",
       "COB                                                                    \n",
       "9/29/2021 2019-02-01          43456    2022-03-02      EQF        NO   \n",
       "9/29/2021 2019-02-01          43456    2022-03-02      EQF        NO   \n",
       "9/29/2021 2019-02-03          66778    2022-03-04     Swap       YES   \n",
       "9/29/2021 2019-02-04          88990    2022-03-05     Swap        NO   \n",
       "\n",
       "           MARKET_VALUE  CPYID  MARKET_VALUE_USD  \n",
       "COB                                               \n",
       "9/29/2021           100     32             100.0  \n",
       "9/29/2021           100     32             120.0  \n",
       "9/29/2021           200     55             260.0  \n",
       "9/29/2021           200     55             280.0  "
      ]
     },
     "execution_count": 81,
     "metadata": {},
     "output_type": "execute_result"
    }
   ],
   "source": [
    "trade_df1.drop(['FX_RATE'], axis=1, inplace = True)  \n",
    "trade_df1"
   ]
  },
  {
   "cell_type": "code",
   "execution_count": 84,
   "id": "6e462a15",
   "metadata": {},
   "outputs": [
    {
     "data": {
      "text/html": [
       "<div>\n",
       "<style scoped>\n",
       "    .dataframe tbody tr th:only-of-type {\n",
       "        vertical-align: middle;\n",
       "    }\n",
       "\n",
       "    .dataframe tbody tr th {\n",
       "        vertical-align: top;\n",
       "    }\n",
       "\n",
       "    .dataframe thead th {\n",
       "        text-align: right;\n",
       "    }\n",
       "</style>\n",
       "<table border=\"1\" class=\"dataframe\">\n",
       "  <thead>\n",
       "    <tr style=\"text-align: right;\">\n",
       "      <th></th>\n",
       "      <th>X</th>\n",
       "      <th>Y</th>\n",
       "    </tr>\n",
       "  </thead>\n",
       "  <tbody>\n",
       "    <tr>\n",
       "      <th>0</th>\n",
       "      <td>B</td>\n",
       "      <td>1</td>\n",
       "    </tr>\n",
       "    <tr>\n",
       "      <th>1</th>\n",
       "      <td>B</td>\n",
       "      <td>2</td>\n",
       "    </tr>\n",
       "    <tr>\n",
       "      <th>2</th>\n",
       "      <td>A</td>\n",
       "      <td>3</td>\n",
       "    </tr>\n",
       "    <tr>\n",
       "      <th>3</th>\n",
       "      <td>A</td>\n",
       "      <td>4</td>\n",
       "    </tr>\n",
       "  </tbody>\n",
       "</table>\n",
       "</div>"
      ],
      "text/plain": [
       "   X  Y\n",
       "0  B  1\n",
       "1  B  2\n",
       "2  A  3\n",
       "3  A  4"
      ]
     },
     "execution_count": 84,
     "metadata": {},
     "output_type": "execute_result"
    }
   ],
   "source": [
    "df2 = pd.DataFrame({\"X\": [\"B\", \"B\", \"A\", \"A\"], \"Y\": [1, 2, 3, 4]})\n",
    "df2"
   ]
  },
  {
   "cell_type": "code",
   "execution_count": 87,
   "id": "fbe63939",
   "metadata": {},
   "outputs": [],
   "source": [
    "grp = df2.groupby([\"X\"])"
   ]
  },
  {
   "cell_type": "code",
   "execution_count": 88,
   "id": "03eea606",
   "metadata": {},
   "outputs": [
    {
     "data": {
      "text/plain": [
       "pandas.core.groupby.generic.DataFrameGroupBy"
      ]
     },
     "execution_count": 88,
     "metadata": {},
     "output_type": "execute_result"
    }
   ],
   "source": [
    "type(grp)"
   ]
  },
  {
   "cell_type": "code",
   "execution_count": 91,
   "id": "43ea55e9",
   "metadata": {},
   "outputs": [
    {
     "data": {
      "text/plain": [
       "{'A': [2, 3], 'B': [0, 1]}"
      ]
     },
     "execution_count": 91,
     "metadata": {},
     "output_type": "execute_result"
    }
   ],
   "source": [
    "grp.groups"
   ]
  },
  {
   "cell_type": "raw",
   "id": "150defbe",
   "metadata": {},
   "source": [
    "grp1 = grp.sum()"
   ]
  },
  {
   "cell_type": "code",
   "execution_count": 89,
   "id": "b9866fbb",
   "metadata": {},
   "outputs": [
    {
     "data": {
      "text/plain": [
       "pandas.core.frame.DataFrame"
      ]
     },
     "execution_count": 89,
     "metadata": {},
     "output_type": "execute_result"
    }
   ],
   "source": [
    "type(grp1)"
   ]
  },
  {
   "cell_type": "code",
   "execution_count": null,
   "id": "8b7d4e0b",
   "metadata": {},
   "outputs": [],
   "source": []
  }
 ],
 "metadata": {
  "kernelspec": {
   "display_name": "Python 3",
   "language": "python",
   "name": "python3"
  },
  "language_info": {
   "codemirror_mode": {
    "name": "ipython",
    "version": 3
   },
   "file_extension": ".py",
   "mimetype": "text/x-python",
   "name": "python",
   "nbconvert_exporter": "python",
   "pygments_lexer": "ipython3",
   "version": "3.8.8"
  }
 },
 "nbformat": 4,
 "nbformat_minor": 5
}
